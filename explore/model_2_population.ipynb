{
 "cells": [
  {
   "cell_type": "code",
   "execution_count": 15,
   "metadata": {},
   "outputs": [],
   "source": [
    "import pyomo.environ as pyo\n",
    "import pandas as pd\n",
    "from pathlib import Path\n",
    "import preprocess_data as ppd"
   ]
  },
  {
   "attachments": {},
   "cell_type": "markdown",
   "metadata": {},
   "source": [
    "## Data"
   ]
  },
  {
   "cell_type": "code",
   "execution_count": 16,
   "metadata": {},
   "outputs": [],
   "source": [
    "data_path = Path(\"../data/\")\n",
    "output_path = Path(\"../output/\")\n",
    "df, adjacent_matrix = ppd.get_df_adj(data_path, 2021)\n",
    "model = pyo.AbstractModel()"
   ]
  },
  {
   "cell_type": "markdown",
   "metadata": {},
   "source": [
    "## Defs"
   ]
  },
  {
   "cell_type": "code",
   "execution_count": 17,
   "metadata": {},
   "outputs": [],
   "source": [
    "def param_adjacent(m, i, j):\n",
    "    return int(j in adjacent_matrix[i])\n",
    "\n",
    "\n",
    "def param_pop(m, i):\n",
    "    return df[\"population\"][i - 1]\n",
    "\n",
    "\n",
    "def con_a(m, i):\n",
    "    return sum((m.a[i, j] * m.x[j]) for j in m.J) >= m.y[i]\n",
    "\n",
    "\n",
    "def con_x(m):\n",
    "    return sum(m.x[j] for j in m.J) <= m.k\n",
    "\n",
    "\n",
    "def obj_sum(m):\n",
    "    return pyo.summation(m.p, m.y)"
   ]
  },
  {
   "attachments": {},
   "cell_type": "markdown",
   "metadata": {},
   "source": [
    "## Constraints"
   ]
  },
  {
   "cell_type": "code",
   "execution_count": 18,
   "metadata": {},
   "outputs": [],
   "source": [
    "# value of n (number of counties)\n",
    "model.n = 88\n",
    "\n",
    "# TOSET limit on number of pirincipal places of buisnesses opened (init to 5)\n",
    "model.k = 15\n",
    "\n",
    "# range of i and j (iterating over counties)\n",
    "model.I = pyo.RangeSet(1, model.n)\n",
    "model.J = pyo.RangeSet(1, model.n)\n",
    "\n",
    "model.p = pyo.Param(model.I, initialize=param_pop)  # population of county i\n",
    "\n",
    "# model.a = pyo.Set(model.I, model.J, within=pyo.Binary, initialize=param_adjacent)  # 1 if county i and j are adjacent\n",
    "model.a = pyo.Param(\n",
    "    model.I, model.J, domain=pyo.Binary, initialize=param_adjacent\n",
    ")  # 1 if county i and j are adjacent\n",
    "\n",
    "model.x = pyo.Var(\n",
    "    model.J, domain=pyo.Binary\n",
    ")  # 1 if principal place of business is opened in county j\n",
    "model.y = pyo.Var(model.I, domain=pyo.Binary)  # 1 if county i is covered\n",
    "\n",
    "model.obj = pyo.Objective(rule=obj_sum, sense=pyo.minimize)\n",
    "\n",
    "model.a_constraint = pyo.Constraint(model.I, rule=con_a)\n",
    "model.x_constraint = pyo.Constraint(rule=con_x)"
   ]
  },
  {
   "attachments": {},
   "cell_type": "markdown",
   "metadata": {},
   "source": [
    "## Solve"
   ]
  },
  {
   "cell_type": "code",
   "execution_count": 19,
   "metadata": {},
   "outputs": [
    {
     "name": "stdout",
     "output_type": "stream",
     "text": [
      "# ==========================================================\n",
      "# = Solver Results                                         =\n",
      "# ==========================================================\n",
      "# ----------------------------------------------------------\n",
      "#   Problem Information\n",
      "# ----------------------------------------------------------\n",
      "Problem: \n",
      "- Name: unknown\n",
      "  Lower bound: 0.0\n",
      "  Upper bound: 0.0\n",
      "  Number of objectives: 1\n",
      "  Number of constraints: 90\n",
      "  Number of variables: 177\n",
      "  Number of nonzeros: 727\n",
      "  Sense: minimize\n",
      "# ----------------------------------------------------------\n",
      "#   Solver Information\n",
      "# ----------------------------------------------------------\n",
      "Solver: \n",
      "- Status: ok\n",
      "  Termination condition: optimal\n",
      "  Statistics: \n",
      "    Branch and bound: \n",
      "      Number of bounded subproblems: 1\n",
      "      Number of created subproblems: 1\n",
      "  Error rc: 0\n",
      "  Time: 0.003222227096557617\n",
      "# ----------------------------------------------------------\n",
      "#   Solution Information\n",
      "# ----------------------------------------------------------\n",
      "Solution: \n",
      "- number of solutions: 0\n",
      "  number of solutions displayed: 0\n"
     ]
    }
   ],
   "source": [
    "instance = model.create_instance()\n",
    "# opt = pyo.SolverFactory(\"ipopt\", executable=\"/home/adb/anaconda3/bin/ipopt\")\n",
    "opt = pyo.SolverFactory(\"glpk\", executable=\"/home/adb/anaconda3/bin/glpsol\")\n",
    "# opt = pyo.SolverFactory(\"glpk\", executable=\"/usr/local/Caskroom/miniconda/base/bin/glpsol\")\n",
    "results = opt.solve(instance).write()\n",
    "results\n",
    "# instance.pprint()\n",
    "# instance.solutions.store_to(results)\n",
    "# model21.pprint()\n",
    "# model21.x.get_values()\n",
    "# solution.print_data()\n",
    "# solution.solutions.store_to(results)"
   ]
  },
  {
   "attachments": {},
   "cell_type": "markdown",
   "metadata": {},
   "source": [
    "## Verify"
   ]
  },
  {
   "cell_type": "code",
   "execution_count": 20,
   "metadata": {},
   "outputs": [
    {
     "data": {
      "text/html": [
       "<div>\n",
       "<style scoped>\n",
       "    .dataframe tbody tr th:only-of-type {\n",
       "        vertical-align: middle;\n",
       "    }\n",
       "\n",
       "    .dataframe tbody tr th {\n",
       "        vertical-align: top;\n",
       "    }\n",
       "\n",
       "    .dataframe thead th {\n",
       "        text-align: right;\n",
       "    }\n",
       "</style>\n",
       "<table border=\"1\" class=\"dataframe\">\n",
       "  <thead>\n",
       "    <tr style=\"text-align: right;\">\n",
       "      <th></th>\n",
       "      <th>obtained_sol1</th>\n",
       "      <th>obtained_sol1_camm</th>\n",
       "    </tr>\n",
       "  </thead>\n",
       "  <tbody>\n",
       "  </tbody>\n",
       "</table>\n",
       "</div>"
      ],
      "text/plain": [
       "Empty DataFrame\n",
       "Columns: [obtained_sol1, obtained_sol1_camm]\n",
       "Index: []"
      ]
     },
     "execution_count": 20,
     "metadata": {},
     "output_type": "execute_result"
    }
   ],
   "source": [
    "sol_dict = instance.x.get_values()\n",
    "sol1 = [k for k, v in sol_dict.items() if v == 1]\n",
    "sol1_camm = ppd.county_ids_to_camm_ids(df, sol1)\n",
    "pd.DataFrame(\n",
    "    zip(\n",
    "        sol1,\n",
    "        sol1_camm,\n",
    "    ),\n",
    "    columns=[\n",
    "        \"obtained_sol1\",\n",
    "        \"obtained_sol1_camm\",\n",
    "    ],\n",
    ")"
   ]
  },
  {
   "cell_type": "code",
   "execution_count": 21,
   "metadata": {},
   "outputs": [
    {
     "name": "stderr",
     "output_type": "stream",
     "text": [
      "/tmp/ipykernel_15138/3864745534.py:1: FutureWarning: The default dtype for empty Series will be 'object' instead of 'float64' in a future version. Specify a dtype explicitly to silence this warning.\n",
      "  sol_save = pd.Series(sol1)\n"
     ]
    }
   ],
   "source": [
    "sol_save = pd.Series(sol1)\n",
    "sol_save.to_csv(\n",
    "    output_path / \"solution_model_2_population.csv\", index=False, header=[\"county_id\"]\n",
    ")"
   ]
  }
 ],
 "metadata": {
  "kernelspec": {
   "display_name": "ise-533",
   "language": "python",
   "name": "python3"
  },
  "language_info": {
   "codemirror_mode": {
    "name": "ipython",
    "version": 3
   },
   "file_extension": ".py",
   "mimetype": "text/x-python",
   "name": "python",
   "nbconvert_exporter": "python",
   "pygments_lexer": "ipython3",
   "version": "3.11.0"
  },
  "orig_nbformat": 4,
  "vscode": {
   "interpreter": {
    "hash": "278b6d78291e10098305ddb5a9cf9f04bd654eaf46b65a75154295c2ec1fd6df"
   }
  }
 },
 "nbformat": 4,
 "nbformat_minor": 2
}
