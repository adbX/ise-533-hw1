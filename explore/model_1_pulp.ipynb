{
 "cells": [
  {
   "cell_type": "code",
   "execution_count": 1,
   "metadata": {},
   "outputs": [],
   "source": [
    "import pulp\n",
    "import pandas as pd\n",
    "from pathlib import Path\n",
    "import preprocess_data as ppd"
   ]
  },
  {
   "cell_type": "code",
   "execution_count": 2,
   "metadata": {},
   "outputs": [],
   "source": [
    "data_path = Path(\"../data/\")\n",
    "output_path = Path(\"../output/\")\n",
    "df, adjacent_matrix = ppd.get_df_adj(data_path, 2021)\n",
    "prob = pulp.LpProblem(\"model1\", pulp.LpMinimize)"
   ]
  },
  {
   "cell_type": "code",
   "execution_count": 3,
   "metadata": {},
   "outputs": [],
   "source": [
    "n = 88 + 1"
   ]
  },
  {
   "cell_type": "code",
   "execution_count": 4,
   "metadata": {},
   "outputs": [],
   "source": [
    "x = pulp.LpVariable.dicts(\"x\", range(1, n), cat=\"Binary\")\n",
    "y = pulp.LpVariable.dicts(\"y\", range(1, n), cat=\"Binary\")\n",
    "a = pulp.LpVariable.dicts(\"a\", (x, y), range(1, n), cat=\"Binary\")\n",
    "\n",
    "for i in range(1, n):\n",
    "    prob += (\n",
    "        pulp.lpSum([int(j in adjacent_matrix[i]) * x[j] for j in range(1, n)]) >= 1,\n",
    "        f\"constraint_a{i}\",\n",
    "    )\n",
    "\n",
    "prob += (\n",
    "    pulp.lpSum([x[i] for i in range(1, n)]),\n",
    "    \"objective_x\",\n",
    ")"
   ]
  },
  {
   "cell_type": "code",
   "execution_count": 5,
   "metadata": {},
   "outputs": [
    {
     "name": "stdout",
     "output_type": "stream",
     "text": [
      "Welcome to the CBC MILP Solver \n",
      "Version: 2.10.3 \n",
      "Build Date: Dec 15 2019 \n",
      "\n",
      "command line - /home/adb/.pyenv/versions/3.11.0/envs/ise-533/lib/python3.11/site-packages/pulp/solverdir/cbc/linux/64/cbc /tmp/6cd6083a5c0040278dd6e6372e307114-pulp.mps timeMode elapsed branch printingOptions all solution /tmp/6cd6083a5c0040278dd6e6372e307114-pulp.sol (default strategy 1)\n",
      "At line 2 NAME          MODEL\n",
      "At line 3 ROWS\n",
      "At line 93 COLUMNS\n",
      "At line 906 RHS\n",
      "At line 995 BOUNDS\n",
      "At line 1084 ENDATA\n",
      "Problem MODEL has 88 rows, 88 columns and 548 elements\n",
      "Coin0008I MODEL read with 0 errors\n",
      "Option for timeMode changed from cpu to elapsed\n",
      "Continuous objective value is 14.8333 - 0.00 seconds\n",
      "Cgl0004I processed model has 88 rows, 88 columns (88 integer (88 of which binary)) and 548 elements\n",
      "Cutoff increment increased from 1e-05 to 0.9999\n",
      "Cbc0038I Initial state - 51 integers unsatisfied sum - 14.0833\n",
      "Cbc0038I Pass   1: suminf.    0.00000 (0) obj. 15 iterations 44\n",
      "Cbc0038I Solution found of 15\n",
      "Cbc0038I Before mini branch and bound, 37 integers at bound fixed and 0 continuous\n",
      "Cbc0038I Mini branch and bound did not improve solution (0.00 seconds)\n",
      "Cbc0038I After 0.00 seconds - Feasibility pump exiting with objective of 15 - took 0.00 seconds\n",
      "Cbc0012I Integer solution of 15 found by feasibility pump after 0 iterations and 0 nodes (0.00 seconds)\n",
      "Cbc0001I Search completed - best objective 15, took 0 iterations and 0 nodes (0.00 seconds)\n",
      "Cbc0035I Maximum depth 0, 21 variables fixed on reduced cost\n",
      "Cuts at root node changed objective from 14.8333 to 14.8333\n",
      "Probing was tried 0 times and created 0 cuts of which 0 were active after adding rounds of cuts (0.000 seconds)\n",
      "Gomory was tried 0 times and created 0 cuts of which 0 were active after adding rounds of cuts (0.000 seconds)\n",
      "Knapsack was tried 0 times and created 0 cuts of which 0 were active after adding rounds of cuts (0.000 seconds)\n",
      "Clique was tried 0 times and created 0 cuts of which 0 were active after adding rounds of cuts (0.000 seconds)\n",
      "MixedIntegerRounding2 was tried 0 times and created 0 cuts of which 0 were active after adding rounds of cuts (0.000 seconds)\n",
      "FlowCover was tried 0 times and created 0 cuts of which 0 were active after adding rounds of cuts (0.000 seconds)\n",
      "TwoMirCuts was tried 0 times and created 0 cuts of which 0 were active after adding rounds of cuts (0.000 seconds)\n",
      "ZeroHalf was tried 0 times and created 0 cuts of which 0 were active after adding rounds of cuts (0.000 seconds)\n",
      "\n",
      "Result - Optimal solution found\n",
      "\n",
      "Objective value:                15.00000000\n",
      "Enumerated nodes:               0\n",
      "Total iterations:               0\n",
      "Time (CPU seconds):             0.00\n",
      "Time (Wallclock seconds):       0.01\n",
      "\n",
      "Option for printingOptions changed from normal to all\n",
      "Total time (CPU seconds):       0.01   (Wallclock seconds):       0.01\n",
      "\n"
     ]
    },
    {
     "data": {
      "text/plain": [
       "15.0"
      ]
     },
     "execution_count": 5,
     "metadata": {},
     "output_type": "execute_result"
    }
   ],
   "source": [
    "prob.solve()\n",
    "pulp.value(prob.objective)"
   ]
  },
  {
   "cell_type": "code",
   "execution_count": 6,
   "metadata": {},
   "outputs": [
    {
     "name": "stdout",
     "output_type": "stream",
     "text": [
      "x_28 = 1.0\n",
      "x_3 = 1.0\n",
      "x_35 = 1.0\n",
      "x_40 = 1.0\n",
      "x_45 = 1.0\n",
      "x_49 = 1.0\n",
      "x_5 = 1.0\n",
      "x_51 = 1.0\n",
      "x_7 = 1.0\n",
      "x_72 = 1.0\n",
      "x_75 = 1.0\n",
      "x_76 = 1.0\n",
      "x_8 = 1.0\n",
      "x_81 = 1.0\n",
      "x_9 = 1.0\n"
     ]
    }
   ],
   "source": [
    "for x in prob.variables():\n",
    "    if x.varValue != 0:\n",
    "        print(x.name, \"=\", x.varValue)"
   ]
  },
  {
   "cell_type": "code",
   "execution_count": 7,
   "metadata": {},
   "outputs": [
    {
     "data": {
      "text/plain": [
       "1     1.0\n",
       "2     1.0\n",
       "3     1.0\n",
       "16    1.0\n",
       "Name: 2, dtype: float64"
      ]
     },
     "execution_count": 7,
     "metadata": {},
     "output_type": "execute_result"
    }
   ],
   "source": [
    "chen = pd.read_csv(data_path / \"chen_adj_mat.csv\", header=None)\n",
    "chen.loc[2].dropna()"
   ]
  },
  {
   "cell_type": "code",
   "execution_count": 8,
   "metadata": {},
   "outputs": [
    {
     "data": {
      "text/plain": [
       "{1: [1, 2, 18, 19],\n",
       " 2: [1, 2, 3, 17, 18],\n",
       " 3: [2, 3, 4, 17],\n",
       " 4: [3, 4, 5, 15, 16, 17],\n",
       " 5: [4, 5, 6, 15],\n",
       " 6: [5, 6, 7, 12, 13, 14, 15],\n",
       " 7: [6, 7, 8, 12],\n",
       " 8: [7, 8, 9, 11, 12],\n",
       " 9: [8, 9, 10, 11],\n",
       " 10: [9, 10, 11, 28, 29],\n",
       " 11: [8, 9, 10, 11, 12, 27, 28],\n",
       " 12: [6, 7, 8, 11, 12, 13, 26, 27],\n",
       " 13: [6, 12, 13, 14, 25, 26],\n",
       " 14: [6, 13, 14, 15, 24, 25],\n",
       " 15: [4, 5, 6, 14, 15, 16, 23, 24],\n",
       " 16: [4, 15, 16, 17, 22, 23],\n",
       " 17: [2, 3, 4, 16, 17, 18, 22],\n",
       " 18: [1, 2, 17, 18, 19, 20, 21],\n",
       " 19: [1, 18, 19, 20],\n",
       " 20: [18, 19, 20, 21, 39],\n",
       " 21: [18, 20, 21, 22, 37, 38, 39],\n",
       " 22: [16, 17, 21, 22, 23, 36, 37],\n",
       " 23: [15, 16, 22, 23, 24, 34, 35, 36],\n",
       " 24: [14, 15, 23, 24, 25, 34],\n",
       " 25: [13, 14, 24, 25, 26, 33, 34],\n",
       " 26: [12, 13, 25, 26, 27, 33],\n",
       " 27: [11, 12, 26, 27, 28, 32, 33],\n",
       " 28: [10, 11, 27, 28, 29, 31, 32],\n",
       " 29: [10, 28, 29, 30, 31],\n",
       " 30: [29, 30, 31, 48, 49],\n",
       " 31: [28, 29, 30, 31, 32, 47, 48],\n",
       " 32: [27, 28, 31, 32, 33, 46, 47],\n",
       " 33: [25, 26, 27, 32, 33, 34, 45, 46],\n",
       " 34: [23, 24, 25, 33, 34, 35, 44, 45],\n",
       " 35: [23, 34, 35, 36, 42, 43, 44],\n",
       " 36: [22, 23, 35, 36, 37, 42],\n",
       " 37: [21, 22, 36, 37, 38, 41, 42],\n",
       " 38: [21, 37, 38, 39, 40, 41],\n",
       " 39: [20, 21, 38, 39, 40],\n",
       " 40: [38, 39, 40, 41, 58],\n",
       " 41: [37, 38, 40, 41, 42, 57, 58, 59],\n",
       " 42: [35, 36, 37, 41, 42, 43, 57],\n",
       " 43: [35, 42, 43, 44, 56, 57],\n",
       " 44: [34, 35, 43, 44, 45, 55, 56],\n",
       " 45: [33, 34, 44, 45, 46, 54, 55],\n",
       " 46: [32, 33, 45, 46, 47, 53, 54],\n",
       " 47: [31, 32, 46, 47, 48, 51, 52, 53],\n",
       " 48: [30, 31, 47, 48, 49, 51],\n",
       " 49: [30, 48, 49, 50, 51],\n",
       " 50: [49, 50, 51, 70],\n",
       " 51: [47, 48, 49, 50, 51, 52, 70],\n",
       " 52: [47, 51, 52, 53, 68, 69, 70],\n",
       " 53: [46, 47, 52, 53, 54, 66, 68],\n",
       " 54: [45, 46, 53, 54, 55, 66],\n",
       " 55: [44, 45, 54, 55, 56, 64, 65, 66],\n",
       " 56: [43, 44, 55, 56, 57, 59, 63, 64],\n",
       " 57: [41, 42, 43, 56, 57, 59],\n",
       " 58: [40, 41, 58, 59, 60, 61],\n",
       " 59: [41, 56, 57, 58, 59, 61, 62, 63],\n",
       " 60: [58, 60, 61, 76, 78, 79],\n",
       " 61: [58, 59, 60, 61, 62, 76],\n",
       " 62: [59, 61, 62, 63, 75, 76],\n",
       " 63: [56, 59, 62, 63, 64, 74, 75],\n",
       " 64: [55, 56, 63, 64, 65, 73, 74],\n",
       " 65: [55, 64, 65, 66, 67, 72, 73],\n",
       " 66: [53, 54, 55, 65, 66, 67, 68],\n",
       " 67: [65, 66, 67, 68, 71, 72],\n",
       " 68: [52, 53, 66, 67, 68, 69, 71],\n",
       " 69: [52, 68, 69, 70],\n",
       " 70: [50, 51, 52, 69, 70],\n",
       " 71: [67, 68, 71, 72, 88],\n",
       " 72: [65, 67, 71, 72, 73, 87, 88],\n",
       " 73: [64, 65, 72, 73, 74, 85, 87],\n",
       " 74: [63, 64, 73, 74, 75, 84, 85],\n",
       " 75: [62, 63, 74, 75, 76, 77, 82, 83, 84],\n",
       " 76: [60, 61, 62, 75, 76, 77],\n",
       " 77: [75, 76, 77, 78, 81, 82],\n",
       " 78: [60, 77, 78, 79, 80, 81],\n",
       " 79: [60, 78, 79, 80],\n",
       " 80: [78, 79, 80, 81],\n",
       " 81: [77, 78, 80, 81, 82],\n",
       " 82: [75, 77, 81, 82, 83],\n",
       " 83: [75, 82, 83, 84, 86],\n",
       " 84: [74, 75, 83, 84, 85, 86],\n",
       " 85: [73, 74, 84, 85, 86, 87],\n",
       " 86: [83, 84, 85, 86, 87],\n",
       " 87: [72, 73, 85, 86, 87, 88],\n",
       " 88: [71, 72, 87, 88]}"
      ]
     },
     "execution_count": 8,
     "metadata": {},
     "output_type": "execute_result"
    }
   ],
   "source": [
    "chen_adj_matrix = {}\n",
    "for column in chen.columns:\n",
    "    chen_adj_matrix[column + 1] = [\n",
    "        i + 1 for i in (chen.loc[column].dropna().index.values.tolist())\n",
    "    ]\n",
    "chen_adj_matrix"
   ]
  },
  {
   "cell_type": "code",
   "execution_count": 9,
   "metadata": {},
   "outputs": [
    {
     "name": "stdout",
     "output_type": "stream",
     "text": [
      "_______\n",
      "17 me:  [2, 3, 4, 16, 17, 18, 21, 22]\n",
      "   chen:[2, 3, 4, 16, 17, 18, 22]\n",
      "69 me:  [2, 20, 32, 35, 63, 69, 81, 87]\n",
      "   chen:[2, 20, 32, 35, 63, 69, 81]\n",
      "_______\n",
      "18 me:  [1, 2, 17, 18, 19, 20, 21, 22]\n",
      "   chen:[1, 2, 17, 18, 19, 20, 21]\n",
      "35 me:  [20, 26, 32, 35, 48, 69, 86, 87]\n",
      "   chen:[20, 26, 35, 48, 69, 86, 87]\n",
      "_______\n",
      "21 me:  [17, 18, 20, 21, 22, 37, 38, 39]\n",
      "   chen:[18, 20, 21, 22, 37, 38, 39]\n",
      "87 me:  [32, 35, 48, 62, 69, 72, 74, 87]\n",
      "   chen:[32, 35, 48, 62, 72, 74, 87]\n",
      "_______\n",
      "22 me:  [16, 17, 18, 21, 22, 23, 36, 37]\n",
      "   chen:[16, 17, 21, 22, 23, 36, 37]\n",
      "32 me:  [2, 32, 33, 35, 69, 74, 87, 88]\n",
      "   chen:[2, 32, 33, 69, 74, 87, 88]\n",
      "_______\n",
      "60 me:  [58, 60, 61, 76, 77, 78, 79]\n",
      "   chen:[58, 60, 61, 76, 78, 79]\n",
      "18 me:  [18, 28, 43, 47, 52, 67, 77]\n",
      "   chen:[18, 28, 43, 47, 52, 77]\n",
      "_______\n",
      "77 me:  [60, 75, 76, 77, 78, 81, 82]\n",
      "   chen:[75, 76, 77, 78, 81, 82]\n",
      "67 me:  [18, 28, 50, 67, 76, 77, 78]\n",
      "   chen:[28, 50, 67, 76, 77, 78]\n"
     ]
    }
   ],
   "source": [
    "# check adj matrix differences\n",
    "df, my_camm_output = ppd.get_df_adj(data_path, 2021, camm=True)\n",
    "for i in sorted(my_camm_output.keys()):\n",
    "    check = set(my_camm_output[i]) == set(chen_adj_matrix[i])\n",
    "    if not check:\n",
    "        print(\"_______\")\n",
    "        county_index = df[df[\"camm_id\"] == i].county_id.values.item()\n",
    "        print(f\"{i} me:  {my_camm_output[i]}\\n   chen:{chen_adj_matrix[i]}\")\n",
    "        print(\n",
    "            f\"{county_index} me:  {ppd.camm_ids_to_county_ids(df, my_camm_output[i])}\\n   chen:{ppd.camm_ids_to_county_ids(df, chen_adj_matrix[i])}\"\n",
    "        )"
   ]
  }
 ],
 "metadata": {
  "kernelspec": {
   "display_name": "ise-533",
   "language": "python",
   "name": "python3"
  },
  "language_info": {
   "codemirror_mode": {
    "name": "ipython",
    "version": 3
   },
   "file_extension": ".py",
   "mimetype": "text/x-python",
   "name": "python",
   "nbconvert_exporter": "python",
   "pygments_lexer": "ipython3",
   "version": "3.11.0"
  },
  "orig_nbformat": 4,
  "vscode": {
   "interpreter": {
    "hash": "278b6d78291e10098305ddb5a9cf9f04bd654eaf46b65a75154295c2ec1fd6df"
   }
  }
 },
 "nbformat": 4,
 "nbformat_minor": 2
}
