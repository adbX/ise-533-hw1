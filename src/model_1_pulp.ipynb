{
 "cells": [
  {
   "cell_type": "code",
   "execution_count": 1,
   "metadata": {},
   "outputs": [],
   "source": [
    "import pulp\n",
    "import pandas as pd\n",
    "from pathlib import Path\n",
    "import preprocess_data as ppd"
   ]
  },
  {
   "cell_type": "code",
   "execution_count": 2,
   "metadata": {},
   "outputs": [],
   "source": [
    "data_path = Path(\"../data/\")\n",
    "output_path = Path(\"../output/\")\n",
    "df, adjacent_matrix = ppd.get_df_adj(data_path, 2021)\n",
    "prob = pulp.LpProblem(\"model1\", pulp.LpMinimize)"
   ]
  },
  {
   "cell_type": "code",
   "execution_count": 3,
   "metadata": {},
   "outputs": [],
   "source": [
    "n=88+1"
   ]
  },
  {
   "cell_type": "code",
   "execution_count": 4,
   "metadata": {},
   "outputs": [],
   "source": [
    "x = pulp.LpVariable.dicts(\"x\", range(1, n), cat=\"Binary\")\n",
    "y = pulp.LpVariable.dicts(\"y\", range(1, n), cat=\"Binary\")\n",
    "a = pulp.LpVariable.dicts(\"a\", (x, y), range(1, n), cat=\"Binary\")\n",
    "\n",
    "for i in range(1,n):\n",
    "    prob += (\n",
    "        pulp.lpSum([int(j in adjacent_matrix[i])*x[j] for j in range(1,n)]) >= 1,\n",
    "        f\"constraint_a{i}\",\n",
    "    )\n",
    "\n",
    "prob += (\n",
    "    pulp.lpSum([x[i] for i in range(1,n)]),\n",
    "               \"objective_x\",\n",
    ")"
   ]
  },
  {
   "cell_type": "code",
   "execution_count": 6,
   "metadata": {},
   "outputs": [
    {
     "name": "stdout",
     "output_type": "stream",
     "text": [
      "Welcome to the CBC MILP Solver \n",
      "Version: 2.10.3 \n",
      "Build Date: Dec 15 2019 \n",
      "\n",
      "command line - /home/adb/.pyenv/versions/3.11.0/envs/ise-533/lib/python3.11/site-packages/pulp/solverdir/cbc/linux/64/cbc /tmp/1a9e49fb29e348eda534179091fc0912-pulp.mps timeMode elapsed branch printingOptions all solution /tmp/1a9e49fb29e348eda534179091fc0912-pulp.sol (default strategy 1)\n",
      "At line 2 NAME          MODEL\n",
      "At line 3 ROWS\n",
      "At line 93 COLUMNS\n",
      "At line 899 RHS\n",
      "At line 988 BOUNDS\n",
      "At line 1077 ENDATA\n",
      "Problem MODEL has 88 rows, 88 columns and 541 elements\n",
      "Coin0008I MODEL read with 0 errors\n",
      "Option for timeMode changed from cpu to elapsed\n",
      "Continuous objective value is 14.9 - 0.00 seconds\n",
      "Cgl0004I processed model has 88 rows, 88 columns (88 integer (88 of which binary)) and 541 elements\n",
      "Cutoff increment increased from 1e-05 to 0.9999\n",
      "Cbc0038I Initial state - 46 integers unsatisfied sum - 13.1\n",
      "Cbc0038I Pass   1: suminf.    8.00000 (18) obj. 15.5 iterations 33\n",
      "Cbc0038I Pass   2: suminf.    7.50000 (15) obj. 15.5 iterations 2\n",
      "Cbc0038I Solution found of 23\n",
      "Cbc0038I Rounding solution of 17 is better than previous of 23\n",
      "\n",
      "Cbc0038I Before mini branch and bound, 40 integers at bound fixed and 0 continuous\n",
      "Cbc0038I Full problem 88 rows 88 columns, reduced to 77 rows 48 columns\n",
      "Cbc0038I Mini branch and bound improved solution from 17 to 16 (0.01 seconds)\n",
      "Cbc0038I Round again with cutoff of 14.9901\n",
      "Cbc0038I Reduced cost fixing fixed 23 variables on major pass 2\n",
      "Cbc0038I Pass   3: suminf.   11.62387 (43) obj. 14.9901 iterations 28\n",
      "Cbc0038I Pass   4: suminf.   10.60751 (44) obj. 14.9901 iterations 17\n",
      "Cbc0038I Pass   5: suminf.   10.60751 (44) obj. 14.9901 iterations 2\n",
      "Cbc0038I Pass   6: suminf.   13.37207 (47) obj. 14.9901 iterations 16\n",
      "Cbc0038I Pass   7: suminf.   11.35656 (49) obj. 14.9901 iterations 10\n",
      "Cbc0038I Pass   8: suminf.   10.81068 (45) obj. 14.9901 iterations 4\n",
      "Cbc0038I Pass   9: suminf.   11.01992 (43) obj. 14.9901 iterations 11\n",
      "Cbc0038I Pass  10: suminf.   10.63874 (44) obj. 14.9901 iterations 4\n",
      "Cbc0038I Pass  11: suminf.   10.63874 (44) obj. 14.9901 iterations 1\n",
      "Cbc0038I Pass  12: suminf.   12.40270 (41) obj. 14.9901 iterations 15\n",
      "Cbc0038I Pass  13: suminf.   10.81068 (45) obj. 14.9901 iterations 7\n",
      "Cbc0038I Pass  14: suminf.   10.81068 (45) obj. 14.9901 iterations 0\n",
      "Cbc0038I Pass  15: suminf.   10.83214 (45) obj. 14.9901 iterations 10\n",
      "Cbc0038I Pass  16: suminf.   10.64715 (47) obj. 14.9901 iterations 10\n",
      "Cbc0038I Pass  17: suminf.   11.89865 (44) obj. 14.9901 iterations 24\n",
      "Cbc0038I Pass  18: suminf.    9.80415 (42) obj. 14.9901 iterations 13\n",
      "Cbc0038I Pass  19: suminf.    9.80415 (42) obj. 14.9901 iterations 1\n",
      "Cbc0038I Pass  20: suminf.    9.80415 (42) obj. 14.9901 iterations 2\n",
      "Cbc0038I Pass  21: suminf.   11.84835 (42) obj. 14.9901 iterations 10\n",
      "Cbc0038I Pass  22: suminf.   10.46361 (46) obj. 14.9901 iterations 9\n",
      "Cbc0038I Pass  23: suminf.   10.38036 (43) obj. 14.9901 iterations 4\n",
      "Cbc0038I Pass  24: suminf.   12.19790 (43) obj. 14.9901 iterations 11\n",
      "Cbc0038I Pass  25: suminf.    9.80415 (42) obj. 14.9901 iterations 11\n",
      "Cbc0038I Pass  26: suminf.    9.80415 (42) obj. 14.9901 iterations 2\n",
      "Cbc0038I Pass  27: suminf.   12.54444 (44) obj. 14.9901 iterations 9\n",
      "Cbc0038I Pass  28: suminf.   10.38036 (43) obj. 14.9901 iterations 7\n",
      "Cbc0038I Pass  29: suminf.   13.76234 (43) obj. 14.9901 iterations 10\n",
      "Cbc0038I Pass  30: suminf.   11.14865 (42) obj. 14.9901 iterations 9\n",
      "Cbc0038I Pass  31: suminf.   12.06937 (40) obj. 14.9901 iterations 16\n",
      "Cbc0038I Pass  32: suminf.   10.68482 (45) obj. 14.9901 iterations 8\n",
      "Cbc0038I No solution found this major pass\n",
      "Cbc0038I Before mini branch and bound, 30 integers at bound fixed and 0 continuous\n",
      "Cbc0038I Full problem 88 rows 88 columns, reduced to 86 rows 58 columns\n",
      "Cbc0038I Mini branch and bound did not improve solution (0.03 seconds)\n",
      "Cbc0038I After 0.03 seconds - Feasibility pump exiting with objective of 16 - took 0.01 seconds\n",
      "Cbc0012I Integer solution of 16 found by feasibility pump after 0 iterations and 0 nodes (0.03 seconds)\n",
      "Cbc0038I Full problem 88 rows 88 columns, reduced to 77 rows 46 columns\n",
      "Cbc0031I 4 added rows had average density of 22.75\n",
      "Cbc0013I At root node, 8 cuts changed objective from 14.9 to 15.096257 in 1 passes\n",
      "Cbc0014I Cut generator 0 (Probing) - 0 row cuts average 0.0 elements, 0 column cuts (0 active)  in 0.000 seconds - new frequency is -100\n",
      "Cbc0014I Cut generator 1 (Gomory) - 0 row cuts average 0.0 elements, 0 column cuts (0 active)  in 0.009 seconds - new frequency is -100\n",
      "Cbc0014I Cut generator 2 (Knapsack) - 0 row cuts average 0.0 elements, 0 column cuts (0 active)  in 0.000 seconds - new frequency is -100\n",
      "Cbc0014I Cut generator 3 (Clique) - 0 row cuts average 0.0 elements, 0 column cuts (0 active)  in 0.000 seconds - new frequency is -100\n",
      "Cbc0014I Cut generator 4 (MixedIntegerRounding2) - 0 row cuts average 0.0 elements, 0 column cuts (0 active)  in 0.000 seconds - new frequency is -100\n",
      "Cbc0014I Cut generator 5 (FlowCover) - 0 row cuts average 0.0 elements, 0 column cuts (0 active)  in 0.000 seconds - new frequency is -100\n",
      "Cbc0014I Cut generator 6 (TwoMirCuts) - 4 row cuts average 64.0 elements, 0 column cuts (0 active)  in 0.001 seconds - new frequency is -100\n",
      "Cbc0014I Cut generator 7 (ZeroHalf) - 4 row cuts average 9.5 elements, 0 column cuts (0 active)  in 0.001 seconds - new frequency is 1\n",
      "Cbc0001I Search completed - best objective 16, took 2 iterations and 0 nodes (0.05 seconds)\n",
      "Cbc0035I Maximum depth 0, 19 variables fixed on reduced cost\n",
      "Cuts at root node changed objective from 14.9 to 15.0963\n",
      "Probing was tried 1 times and created 0 cuts of which 0 were active after adding rounds of cuts (0.000 seconds)\n",
      "Gomory was tried 1 times and created 0 cuts of which 0 were active after adding rounds of cuts (0.009 seconds)\n",
      "Knapsack was tried 1 times and created 0 cuts of which 0 were active after adding rounds of cuts (0.000 seconds)\n",
      "Clique was tried 1 times and created 0 cuts of which 0 were active after adding rounds of cuts (0.000 seconds)\n",
      "MixedIntegerRounding2 was tried 1 times and created 0 cuts of which 0 were active after adding rounds of cuts (0.000 seconds)\n",
      "FlowCover was tried 1 times and created 0 cuts of which 0 were active after adding rounds of cuts (0.000 seconds)\n",
      "TwoMirCuts was tried 1 times and created 4 cuts of which 0 were active after adding rounds of cuts (0.001 seconds)\n",
      "ZeroHalf was tried 1 times and created 4 cuts of which 0 were active after adding rounds of cuts (0.001 seconds)\n",
      "\n",
      "Result - Optimal solution found\n",
      "\n",
      "Objective value:                16.00000000\n",
      "Enumerated nodes:               0\n",
      "Total iterations:               2\n",
      "Time (CPU seconds):             0.03\n",
      "Time (Wallclock seconds):       0.05\n",
      "\n",
      "Option for printingOptions changed from normal to all\n",
      "Total time (CPU seconds):       0.03   (Wallclock seconds):       0.05\n",
      "\n"
     ]
    },
    {
     "data": {
      "text/plain": [
       "16.0"
      ]
     },
     "execution_count": 6,
     "metadata": {},
     "output_type": "execute_result"
    }
   ],
   "source": [
    "prob.solve()\n",
    "pulp.value(prob.objective)"
   ]
  },
  {
   "cell_type": "code",
   "execution_count": 7,
   "metadata": {},
   "outputs": [
    {
     "name": "stdout",
     "output_type": "stream",
     "text": [
      "x_19 = 1.0\n",
      "x_28 = 1.0\n",
      "x_3 = 1.0\n",
      "x_35 = 1.0\n",
      "x_40 = 1.0\n",
      "x_45 = 1.0\n",
      "x_49 = 1.0\n",
      "x_5 = 1.0\n",
      "x_51 = 1.0\n",
      "x_69 = 1.0\n",
      "x_7 = 1.0\n",
      "x_72 = 1.0\n",
      "x_75 = 1.0\n",
      "x_76 = 1.0\n",
      "x_8 = 1.0\n",
      "x_83 = 1.0\n"
     ]
    }
   ],
   "source": [
    "for x in prob.variables():\n",
    "    if x.varValue!=0:\n",
    "        print(x.name, \"=\", x.varValue)"
   ]
  }
 ],
 "metadata": {
  "kernelspec": {
   "display_name": "ise-533",
   "language": "python",
   "name": "python3"
  },
  "language_info": {
   "codemirror_mode": {
    "name": "ipython",
    "version": 3
   },
   "file_extension": ".py",
   "mimetype": "text/x-python",
   "name": "python",
   "nbconvert_exporter": "python",
   "pygments_lexer": "ipython3",
   "version": "3.11.0"
  },
  "orig_nbformat": 4,
  "vscode": {
   "interpreter": {
    "hash": "278b6d78291e10098305ddb5a9cf9f04bd654eaf46b65a75154295c2ec1fd6df"
   }
  }
 },
 "nbformat": 4,
 "nbformat_minor": 2
}
