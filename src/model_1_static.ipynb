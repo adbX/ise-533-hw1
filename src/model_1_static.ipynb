{
 "cells": [
  {
   "cell_type": "code",
   "execution_count": 1,
   "metadata": {},
   "outputs": [],
   "source": [
    "import pyomo.environ as pyo\n",
    "import pandas as pd\n",
    "from pathlib import Path\n",
    "import preprocess_data as ppd\n",
    "from itertools import zip_longest\n",
    "\n",
    "known_x_sols = [[8, 14, 17, 19, 29, 33, 35, 38, 51, 55, 59, 68, 75, 78, 87],\n",
    "              [4, 8, 14, 18, 29, 33, 35, 38, 51, 55, 59, 68, 75, 78, 87],\n",
    "              [8, 14, 17, 18, 29, 33, 35, 38, 51, 55, 59, 68, 75, 78, 87]]"
   ]
  },
  {
   "attachments": {},
   "cell_type": "markdown",
   "metadata": {},
   "source": [
    "## Data"
   ]
  },
  {
   "cell_type": "code",
   "execution_count": 2,
   "metadata": {},
   "outputs": [],
   "source": [
    "data_path = Path(\"../data/\")\n",
    "output_path = Path(\"../output/\")\n",
    "df, adjacent_matrix = ppd.get_df_adj(data_path, 2021)\n",
    "model = pyo.AbstractModel()"
   ]
  },
  {
   "cell_type": "markdown",
   "metadata": {},
   "source": [
    "## Defs"
   ]
  },
  {
   "cell_type": "code",
   "execution_count": 3,
   "metadata": {},
   "outputs": [],
   "source": [
    "def param_adjacent(m, i, j):\n",
    "    return int(j in adjacent_matrix[i])\n",
    "\n",
    "def param_pop(m, i):\n",
    "    return df[\"population\"][i - 1]\n",
    "\n",
    "def con_a(m, i):\n",
    "    return sum((m.a[i, j] * m.x[j]) for j in m.J) >= m.y[i]\n",
    "\n",
    "def con_x(m):\n",
    "    return sum(m.x[j] for j in m.J) <= m.k\n",
    "\n",
    "def obj_sum(m):\n",
    "    return pyo.summation(m.p, m.y)"
   ]
  },
  {
   "attachments": {},
   "cell_type": "markdown",
   "metadata": {},
   "source": [
    "## Constraints"
   ]
  },
  {
   "cell_type": "code",
   "execution_count": 4,
   "metadata": {},
   "outputs": [],
   "source": [
    "# value of n (number of counties)\n",
    "model.n = 88\n",
    "\n",
    "# TOSET limit on number of pirincipal places of buisnesses opened (init to 5)\n",
    "model.k = 15\n",
    "\n",
    "# range of i and j (iterating over counties)\n",
    "model.I = pyo.RangeSet(1, model.n)\n",
    "model.J = pyo.RangeSet(1, model.n)\n",
    "\n",
    "model.p = pyo.Param(model.I, initialize=param_pop)  # population of county i\n",
    "\n",
    "# model.a = pyo.Set(model.I, model.J, within=pyo.Binary, initialize=param_adjacent)  # 1 if county i and j are adjacent\n",
    "model.a = pyo.Param(model.I, model.J, domain=pyo.Binary, initialize=param_adjacent)  # 1 if county i and j are adjacent\n",
    "\n",
    "model.x = pyo.Var(model.J, domain=pyo.Binary)  # 1 if principal place of business is opened in county j\n",
    "model.y = pyo.Var(model.I, domain=pyo.Binary)  # 1 if county i is covered\n",
    "\n",
    "model.obj = pyo.Objective(rule=obj_sum, sense=pyo.maximize)\n",
    "\n",
    "model.a_constraint = pyo.Constraint(model.I, rule=con_a)\n",
    "model.x_constraint = pyo.Constraint(rule=con_x)"
   ]
  },
  {
   "attachments": {},
   "cell_type": "markdown",
   "metadata": {},
   "source": [
    "## Solve"
   ]
  },
  {
   "cell_type": "code",
   "execution_count": 5,
   "metadata": {},
   "outputs": [],
   "source": [
    "# opt = pyo.SolverFactory(\"ipopt\", executable=\"/home/adb/anaconda3/bin/ipopt\")\n",
    "opt = pyo.SolverFactory(\"glpk\", executable=\"/home/adb/anaconda3/bin/glpsol\")\n",
    "# opt = pyo.SolverFactory(\"glpk\", executable=\"/usr/local/Caskroom/miniconda/base/bin/glpsol\")"
   ]
  },
  {
   "cell_type": "code",
   "execution_count": 6,
   "metadata": {},
   "outputs": [
    {
     "name": "stdout",
     "output_type": "stream",
     "text": [
      "# ==========================================================\n",
      "# = Solver Results                                         =\n",
      "# ==========================================================\n",
      "# ----------------------------------------------------------\n",
      "#   Problem Information\n",
      "# ----------------------------------------------------------\n",
      "Problem: \n",
      "- Name: unknown\n",
      "  Lower bound: 11769923.0\n",
      "  Upper bound: 11769923.0\n",
      "  Number of objectives: 1\n",
      "  Number of constraints: 90\n",
      "  Number of variables: 177\n",
      "  Number of nonzeros: 729\n",
      "  Sense: maximize\n",
      "# ----------------------------------------------------------\n",
      "#   Solver Information\n",
      "# ----------------------------------------------------------\n",
      "Solver: \n",
      "- Status: ok\n",
      "  Termination condition: optimal\n",
      "  Statistics: \n",
      "    Branch and bound: \n",
      "      Number of bounded subproblems: 31\n",
      "      Number of created subproblems: 31\n",
      "  Error rc: 0\n",
      "  Time: 0.01277923583984375\n",
      "# ----------------------------------------------------------\n",
      "#   Solution Information\n",
      "# ----------------------------------------------------------\n",
      "Solution: \n",
      "- number of solutions: 0\n",
      "  number of solutions displayed: 0\n"
     ]
    }
   ],
   "source": [
    "instance1 = model.create_instance()\n",
    "results1 = opt.solve(instance1).write()"
   ]
  },
  {
   "cell_type": "code",
   "execution_count": 7,
   "metadata": {},
   "outputs": [
    {
     "name": "stdout",
     "output_type": "stream",
     "text": [
      "Solution 1: \n",
      "[3, 5, 7, 8, 9, 28, 35, 40, 45, 49, 51, 72, 75, 76, 81]\n",
      "Solution 1 with Camm18 indexing method: \n",
      "[4, 8, 14, 18, 29, 33, 35, 38, 51, 55, 59, 68, 75, 78, 87]\n"
     ]
    }
   ],
   "source": [
    "sol_dict1 = instance1.x.get_values()\n",
    "sol1 = [k for k, v in sol_dict1.items() if v == 1]\n",
    "not_sol1 = set([i for i in range(1, model.n+1)]) - set(sol1)\n",
    "sol1_camm = ppd.county_ids_to_camm_ids(df, sol1)\n",
    "\n",
    "print(f\"Solution 1: \\n{sol1}\")\n",
    "print(f\"Solution 1 with Camm18 indexing method: \\n{sol1_camm}\")"
   ]
  },
  {
   "attachments": {},
   "cell_type": "markdown",
   "metadata": {},
   "source": [
    "## Re-solve for 2nd solution"
   ]
  },
  {
   "cell_type": "code",
   "execution_count": 8,
   "metadata": {},
   "outputs": [],
   "source": [
    "model = model.clone()\n",
    "\n",
    "def con_x_sol2(m):\n",
    "    return sum(m.x[i] for i in sol1) - sum(m.x[j] for j in not_sol1) <= len(sol1) - 1\n",
    "model.sol2_constraint = pyo.Constraint(rule=con_x_sol2)\n",
    "\n",
    "instance2 = model.create_instance()\n",
    "results2 = opt.solve(instance2)"
   ]
  },
  {
   "cell_type": "code",
   "execution_count": 9,
   "metadata": {},
   "outputs": [
    {
     "name": "stdout",
     "output_type": "stream",
     "text": [
      "Solution 2: \n",
      "[3, 5, 7, 8, 9, 28, 35, 40, 45, 49, 51, 69, 72, 75, 76]\n",
      "Solution 2 with Camm18 indexing method: \n",
      "[8, 14, 17, 18, 29, 33, 35, 38, 51, 55, 59, 68, 75, 78, 87]\n"
     ]
    }
   ],
   "source": [
    "sol_dict2 = instance2.x.get_values()\n",
    "sol2 = [k for k, v in sol_dict2.items() if v == 1]\n",
    "not_sol2 = set([i for i in range(1, model.n+1)]) - set(sol2)\n",
    "sol2_camm = ppd.county_ids_to_camm_ids(df, sol2)\n",
    "\n",
    "print(f\"Solution 2: \\n{sol2}\")\n",
    "print(f\"Solution 2 with Camm18 indexing method: \\n{sol2_camm}\")"
   ]
  },
  {
   "attachments": {},
   "cell_type": "markdown",
   "metadata": {},
   "source": [
    "## Re-solve for 3rd solution"
   ]
  },
  {
   "cell_type": "code",
   "execution_count": 10,
   "metadata": {},
   "outputs": [],
   "source": [
    "model = model.clone()\n",
    "\n",
    "def con_x_sol3(m):\n",
    "    return sum(m.x[i] for i in sol2) - sum(m.x[j] for j in not_sol2) <= len(sol2) - 1\n",
    "model.sol3_constraint = pyo.Constraint(rule=con_x_sol3)\n",
    "\n",
    "instance3 = model.create_instance()\n",
    "results2 = opt.solve(instance3)"
   ]
  },
  {
   "cell_type": "code",
   "execution_count": 11,
   "metadata": {},
   "outputs": [
    {
     "name": "stdout",
     "output_type": "stream",
     "text": [
      "Solution 3: \n",
      "{1, 2, 4, 6, 10, 11, 12, 13, 14, 15, 16, 17, 18, 19, 20, 21, 22, 23, 24, 25, 27, 29, 30, 31, 32, 33, 34, 35, 36, 37, 38, 39, 41, 42, 43, 44, 46, 47, 48, 50, 52, 53, 54, 55, 56, 57, 58, 59, 60, 61, 62, 63, 64, 65, 66, 67, 68, 70, 71, 73, 74, 77, 78, 79, 80, 81, 82, 83, 84, 85, 86, 87, 88}\n",
      "Solution 3 with Camm18 indexing method: \n",
      "[1, 2, 3, 4, 5, 6, 7, 9, 10, 11, 12, 13, 15, 16, 18, 20, 21, 22, 23, 24, 25, 26, 27, 28, 30, 31, 32, 34, 36, 37, 39, 40, 41, 42, 43, 44, 45, 46, 47, 48, 49, 50, 52, 53, 54, 56, 57, 58, 60, 61, 62, 63, 64, 65, 66, 67, 69, 70, 71, 72, 73, 74, 76, 77, 79, 80, 81, 82, 83, 84, 85, 86, 88]\n"
     ]
    }
   ],
   "source": [
    "sol_dict3 = instance3.x.get_values()\n",
    "sol3 = [k for k, v in sol_dict3.items() if v == 1]\n",
    "sol3 = set([i for i in range(1, model.n+1)]) - set(sol3)\n",
    "sol3_camm = ppd.county_ids_to_camm_ids(df, sol3)\n",
    "\n",
    "# [3, 5, 7, 8, 9, 28, 35, 40, 45, 49, 51, 72, 75, 76, 81]\n",
    "# [3, 5, 7, 8, 9, 28, 35, 40, 45, 49, 51, 69, 72, 75, 76]\n",
    "print(f\"Solution 3: \\n{sol3}\")\n",
    "print(f\"Solution 3 with Camm18 indexing method: \\n{sol3_camm}\")"
   ]
  },
  {
   "cell_type": "code",
   "execution_count": 12,
   "metadata": {},
   "outputs": [
    {
     "name": "stdout",
     "output_type": "stream",
     "text": [
      "sol2_constraint : Size=1, Index=None, Active=True\n",
      "    Key  : Lower : Body                                                                                                                                                                                                                                                                                                                                                                                                                                                                                                                                                                                                                                                                                                                   : Upper : Active\n",
      "    None :  -Inf : x[3] + x[5] + x[7] + x[8] + x[9] + x[28] + x[35] + x[40] + x[45] + x[49] + x[51] + x[72] + x[75] + x[76] + x[81] - (x[1] + x[2] + x[4] + x[6] + x[10] + x[11] + x[12] + x[13] + x[14] + x[15] + x[16] + x[17] + x[18] + x[19] + x[20] + x[21] + x[22] + x[23] + x[24] + x[25] + x[26] + x[27] + x[29] + x[30] + x[31] + x[32] + x[33] + x[34] + x[36] + x[37] + x[38] + x[39] + x[41] + x[42] + x[43] + x[44] + x[46] + x[47] + x[48] + x[50] + x[52] + x[53] + x[54] + x[55] + x[56] + x[57] + x[58] + x[59] + x[60] + x[61] + x[62] + x[63] + x[64] + x[65] + x[66] + x[67] + x[68] + x[69] + x[70] + x[71] + x[73] + x[74] + x[77] + x[78] + x[79] + x[80] + x[82] + x[83] + x[84] + x[85] + x[86] + x[87] + x[88]) :  14.0 :   True\n"
     ]
    }
   ],
   "source": [
    "instance3.sol2_constraint.pprint()"
   ]
  },
  {
   "cell_type": "code",
   "execution_count": 13,
   "metadata": {},
   "outputs": [
    {
     "name": "stdout",
     "output_type": "stream",
     "text": [
      "sol3_constraint : Size=1, Index=None, Active=True\n",
      "    Key  : Lower : Body                                                                                                                                                                                                                                                                                                                                                                                                                                                                                                                                                                                                                                                                                                                   : Upper : Active\n",
      "    None :  -Inf : x[3] + x[5] + x[7] + x[8] + x[9] + x[28] + x[35] + x[40] + x[45] + x[49] + x[51] + x[69] + x[72] + x[75] + x[76] - (x[1] + x[2] + x[4] + x[6] + x[10] + x[11] + x[12] + x[13] + x[14] + x[15] + x[16] + x[17] + x[18] + x[19] + x[20] + x[21] + x[22] + x[23] + x[24] + x[25] + x[26] + x[27] + x[29] + x[30] + x[31] + x[32] + x[33] + x[34] + x[36] + x[37] + x[38] + x[39] + x[41] + x[42] + x[43] + x[44] + x[46] + x[47] + x[48] + x[50] + x[52] + x[53] + x[54] + x[55] + x[56] + x[57] + x[58] + x[59] + x[60] + x[61] + x[62] + x[63] + x[64] + x[65] + x[66] + x[67] + x[68] + x[70] + x[71] + x[73] + x[74] + x[77] + x[78] + x[79] + x[80] + x[81] + x[82] + x[83] + x[84] + x[85] + x[86] + x[87] + x[88]) :  14.0 :   True\n"
     ]
    }
   ],
   "source": [
    "instance3.sol3_constraint.pprint()"
   ]
  },
  {
   "attachments": {},
   "cell_type": "markdown",
   "metadata": {},
   "source": [
    "## Verify"
   ]
  },
  {
   "cell_type": "code",
   "execution_count": 16,
   "metadata": {},
   "outputs": [
    {
     "name": "stdout",
     "output_type": "stream",
     "text": [
      "Solution 1 \n",
      "Result:[4, 8, 14, 18, 29, 33, 35, 38, 51, 55, 59, 68, 75, 78, 87] \n",
      "Camm18:[4, 8, 14, 18, 29, 33, 35, 38, 51, 55, 59, 68, 75, 78, 87] \n",
      " ----\n",
      "Solution 2 \n",
      "Result:[8, 14, 17, 18, 29, 33, 35, 38, 51, 55, 59, 68, 75, 78, 87] \n",
      "Camm18:[8, 14, 17, 18, 29, 33, 35, 38, 51, 55, 59, 68, 75, 78, 87] \n",
      " ----\n",
      "Solution 3 \n",
      "Result:[1, 2, 3, 4, 5, 6, 7, 9, 10, 11, 12, 13, 15, 16, 18, 20, 21, 22, 23, 24, 25, 26, 27, 28, 30, 31, 32, 34, 36, 37, 39, 40, 41, 42, 43, 44, 45, 46, 47, 48, 49, 50, 52, 53, 54, 56, 57, 58, 60, 61, 62, 63, 64, 65, 66, 67, 69, 70, 71, 72, 73, 74, 76, 77, 79, 80, 81, 82, 83, 84, 85, 86, 88] \n",
      "Camm18:[8, 14, 17, 18, 29, 33, 35, 38, 51, 55, 59, 68, 75, 78, 87] \n",
      " ----\n"
     ]
    }
   ],
   "source": [
    "pd.DataFrame(zip_longest(sol1_camm, known_x_sols[0], sol2_camm, known_x_sols[1], sol3_camm, known_x_sols[2]), columns=[\"sol1\", \"camm_sol1\", \"sol2\", \"camm_sol2\", \"sol3\", \"camm_sol3\"])\n",
    "\n",
    "print(f\"Solution 1 \\nResult:{sol1_camm} \\nCamm18:{known_x_sols[1]} \\n ----\")\n",
    "print(f\"Solution 2 \\nResult:{sol2_camm} \\nCamm18:{known_x_sols[2]} \\n ----\")\n",
    "print(f\"Solution 3 \\nResult:{sol3_camm} \\nCamm18:{known_x_sols[0]} \\n ----\")"
   ]
  },
  {
   "attachments": {},
   "cell_type": "markdown",
   "metadata": {},
   "source": [
    "## Save solution for visualization"
   ]
  },
  {
   "cell_type": "code",
   "execution_count": 15,
   "metadata": {},
   "outputs": [],
   "source": [
    "sol_save = pd.Series(sol2)\n",
    "sol_save.to_csv(output_path / \"solution_model_1_static.csv\", index=False, header=['county_id'])"
   ]
  }
 ],
 "metadata": {
  "kernelspec": {
   "display_name": "ise-533",
   "language": "python",
   "name": "python3"
  },
  "language_info": {
   "codemirror_mode": {
    "name": "ipython",
    "version": 3
   },
   "file_extension": ".py",
   "mimetype": "text/x-python",
   "name": "python",
   "nbconvert_exporter": "python",
   "pygments_lexer": "ipython3",
   "version": "3.11.0"
  },
  "orig_nbformat": 4,
  "vscode": {
   "interpreter": {
    "hash": "278b6d78291e10098305ddb5a9cf9f04bd654eaf46b65a75154295c2ec1fd6df"
   }
  }
 },
 "nbformat": 4,
 "nbformat_minor": 2
}
