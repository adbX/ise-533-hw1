{
 "cells": [
  {
   "cell_type": "code",
   "execution_count": 8,
   "metadata": {},
   "outputs": [],
   "source": [
    "import pyomo.environ as pyo\n",
    "import pandas as pd\n",
    "from pathlib import Path\n",
    "import preprocess_data as ppd\n",
    "\n",
    "known_x_sols = [[8, 14, 17, 19, 29, 33, 35, 38, 51, 55, 59, 68, 75, 78, 87],\n",
    "              [4, 8, 14, 18, 29, 33, 35, 38, 51, 55, 59, 68, 75, 78, 87],\n",
    "              [8, 14, 17, 18, 29, 33, 35, 38, 51, 55, 59, 68, 75, 78, 87]]"
   ]
  },
  {
   "attachments": {},
   "cell_type": "markdown",
   "metadata": {},
   "source": [
    "## Data"
   ]
  },
  {
   "cell_type": "code",
   "execution_count": 9,
   "metadata": {},
   "outputs": [],
   "source": [
    "data_path = Path(\"../data/\")\n",
    "output_path = Path(\"../output/\")\n",
    "df, adjacent_matrix = ppd.get_df_adj(data_path, 2021)\n",
    "model = pyo.AbstractModel()"
   ]
  },
  {
   "cell_type": "markdown",
   "metadata": {},
   "source": [
    "## Defs"
   ]
  },
  {
   "cell_type": "code",
   "execution_count": 10,
   "metadata": {},
   "outputs": [],
   "source": [
    "def param_adjacent(m, i, j):\n",
    "    return int(j in adjacent_matrix[i])\n",
    "\n",
    "def con_a(m, i):\n",
    "    return sum((m.a[i, j] * m.x[j]) for j in m.J) >= 1\n",
    "\n",
    "def obj_sum(m):\n",
    "    return pyo.summation(m.x)"
   ]
  },
  {
   "attachments": {},
   "cell_type": "markdown",
   "metadata": {},
   "source": [
    "## Constraints"
   ]
  },
  {
   "cell_type": "code",
   "execution_count": 11,
   "metadata": {},
   "outputs": [],
   "source": [
    "# value of n (number of counties)\n",
    "model.n = 88\n",
    "\n",
    "# range of i and j (iterating over counties)\n",
    "model.I = pyo.RangeSet(1, model.n)\n",
    "model.J = pyo.RangeSet(1, model.n)\n",
    "\n",
    "# model.a = pyo.Set(model.I, model.J, within=pyo.Binary, initialize=param_adjacent)  # 1 if county i and j are adjacent\n",
    "model.a = pyo.Param(model.I, model.J, domain=pyo.Binary, initialize=param_adjacent)  # 1 if county i and j are adjacent\n",
    "\n",
    "model.x = pyo.Var(model.J, domain=pyo.Binary)  # 1 if principal place of business is opened in county j\n",
    "\n",
    "model.obj = pyo.Objective(rule=obj_sum, sense=pyo.minimize)\n",
    "\n",
    "model.a_constraint = pyo.Constraint(model.I, rule=con_a)"
   ]
  },
  {
   "attachments": {},
   "cell_type": "markdown",
   "metadata": {},
   "source": [
    "## Solve"
   ]
  },
  {
   "cell_type": "code",
   "execution_count": 12,
   "metadata": {},
   "outputs": [
    {
     "name": "stdout",
     "output_type": "stream",
     "text": [
      "# ==========================================================\n",
      "# = Solver Results                                         =\n",
      "# ==========================================================\n",
      "# ----------------------------------------------------------\n",
      "#   Problem Information\n",
      "# ----------------------------------------------------------\n",
      "Problem: \n",
      "- Name: unknown\n",
      "  Lower bound: 16.0\n",
      "  Upper bound: 16.0\n",
      "  Number of objectives: 1\n",
      "  Number of constraints: 89\n",
      "  Number of variables: 89\n",
      "  Number of nonzeros: 542\n",
      "  Sense: minimize\n",
      "# ----------------------------------------------------------\n",
      "#   Solver Information\n",
      "# ----------------------------------------------------------\n",
      "Solver: \n",
      "- Status: ok\n",
      "  Termination condition: optimal\n",
      "  Statistics: \n",
      "    Branch and bound: \n",
      "      Number of bounded subproblems: 7\n",
      "      Number of created subproblems: 7\n",
      "  Error rc: 0\n",
      "  Time: 0.005280256271362305\n",
      "# ----------------------------------------------------------\n",
      "#   Solution Information\n",
      "# ----------------------------------------------------------\n",
      "Solution: \n",
      "- number of solutions: 0\n",
      "  number of solutions displayed: 0\n"
     ]
    }
   ],
   "source": [
    "instance = model.create_instance()\n",
    "# opt = pyo.SolverFactory(\"ipopt\", executable=\"/home/adb/anaconda3/bin/ipopt\")\n",
    "opt = pyo.SolverFactory(\"glpk\", executable=\"/home/adb/anaconda3/bin/glpsol\")\n",
    "# opt = pyo.SolverFactory(\"glpk\", executable=\"/usr/local/Caskroom/miniconda/base/bin/glpsol\")\n",
    "results = opt.solve(instance).write()\n",
    "# instance.pprint()\n",
    "# instance.solutions.store_to(results)\n",
    "# model21.pprint()\n",
    "# model21.x.get_values()\n",
    "# solution.print_data()\n",
    "# solution.solutions.store_to(results)"
   ]
  },
  {
   "attachments": {},
   "cell_type": "markdown",
   "metadata": {},
   "source": [
    "## Verify"
   ]
  },
  {
   "cell_type": "code",
   "execution_count": 13,
   "metadata": {},
   "outputs": [],
   "source": [
    "# sol = instance.x.get_values()\n",
    "# [{k: round(v, 2) for k, v in sol.items()}]"
   ]
  },
  {
   "cell_type": "code",
   "execution_count": 14,
   "metadata": {},
   "outputs": [
    {
     "data": {
      "text/html": [
       "<div>\n",
       "<style scoped>\n",
       "    .dataframe tbody tr th:only-of-type {\n",
       "        vertical-align: middle;\n",
       "    }\n",
       "\n",
       "    .dataframe tbody tr th {\n",
       "        vertical-align: top;\n",
       "    }\n",
       "\n",
       "    .dataframe thead th {\n",
       "        text-align: right;\n",
       "    }\n",
       "</style>\n",
       "<table border=\"1\" class=\"dataframe\">\n",
       "  <thead>\n",
       "    <tr style=\"text-align: right;\">\n",
       "      <th></th>\n",
       "      <th>obtained_sol1</th>\n",
       "      <th>obtained_sol1_camm</th>\n",
       "      <th>known_sol1</th>\n",
       "      <th>known_sol2</th>\n",
       "      <th>known_sol3</th>\n",
       "    </tr>\n",
       "  </thead>\n",
       "  <tbody>\n",
       "    <tr>\n",
       "      <th>0</th>\n",
       "      <td>3</td>\n",
       "      <td>4</td>\n",
       "      <td>8</td>\n",
       "      <td>4</td>\n",
       "      <td>8</td>\n",
       "    </tr>\n",
       "    <tr>\n",
       "      <th>1</th>\n",
       "      <td>5</td>\n",
       "      <td>8</td>\n",
       "      <td>14</td>\n",
       "      <td>8</td>\n",
       "      <td>14</td>\n",
       "    </tr>\n",
       "    <tr>\n",
       "      <th>2</th>\n",
       "      <td>7</td>\n",
       "      <td>14</td>\n",
       "      <td>17</td>\n",
       "      <td>14</td>\n",
       "      <td>17</td>\n",
       "    </tr>\n",
       "    <tr>\n",
       "      <th>3</th>\n",
       "      <td>8</td>\n",
       "      <td>17</td>\n",
       "      <td>19</td>\n",
       "      <td>18</td>\n",
       "      <td>18</td>\n",
       "    </tr>\n",
       "    <tr>\n",
       "      <th>4</th>\n",
       "      <td>9</td>\n",
       "      <td>18</td>\n",
       "      <td>29</td>\n",
       "      <td>29</td>\n",
       "      <td>29</td>\n",
       "    </tr>\n",
       "    <tr>\n",
       "      <th>5</th>\n",
       "      <td>28</td>\n",
       "      <td>29</td>\n",
       "      <td>33</td>\n",
       "      <td>33</td>\n",
       "      <td>33</td>\n",
       "    </tr>\n",
       "    <tr>\n",
       "      <th>6</th>\n",
       "      <td>35</td>\n",
       "      <td>33</td>\n",
       "      <td>35</td>\n",
       "      <td>35</td>\n",
       "      <td>35</td>\n",
       "    </tr>\n",
       "    <tr>\n",
       "      <th>7</th>\n",
       "      <td>40</td>\n",
       "      <td>35</td>\n",
       "      <td>38</td>\n",
       "      <td>38</td>\n",
       "      <td>38</td>\n",
       "    </tr>\n",
       "    <tr>\n",
       "      <th>8</th>\n",
       "      <td>45</td>\n",
       "      <td>38</td>\n",
       "      <td>51</td>\n",
       "      <td>51</td>\n",
       "      <td>51</td>\n",
       "    </tr>\n",
       "    <tr>\n",
       "      <th>9</th>\n",
       "      <td>49</td>\n",
       "      <td>51</td>\n",
       "      <td>55</td>\n",
       "      <td>55</td>\n",
       "      <td>55</td>\n",
       "    </tr>\n",
       "    <tr>\n",
       "      <th>10</th>\n",
       "      <td>51</td>\n",
       "      <td>55</td>\n",
       "      <td>59</td>\n",
       "      <td>59</td>\n",
       "      <td>59</td>\n",
       "    </tr>\n",
       "    <tr>\n",
       "      <th>11</th>\n",
       "      <td>69</td>\n",
       "      <td>59</td>\n",
       "      <td>68</td>\n",
       "      <td>68</td>\n",
       "      <td>68</td>\n",
       "    </tr>\n",
       "    <tr>\n",
       "      <th>12</th>\n",
       "      <td>72</td>\n",
       "      <td>68</td>\n",
       "      <td>75</td>\n",
       "      <td>75</td>\n",
       "      <td>75</td>\n",
       "    </tr>\n",
       "    <tr>\n",
       "      <th>13</th>\n",
       "      <td>75</td>\n",
       "      <td>75</td>\n",
       "      <td>78</td>\n",
       "      <td>78</td>\n",
       "      <td>78</td>\n",
       "    </tr>\n",
       "    <tr>\n",
       "      <th>14</th>\n",
       "      <td>76</td>\n",
       "      <td>78</td>\n",
       "      <td>87</td>\n",
       "      <td>87</td>\n",
       "      <td>87</td>\n",
       "    </tr>\n",
       "  </tbody>\n",
       "</table>\n",
       "</div>"
      ],
      "text/plain": [
       "    obtained_sol1  obtained_sol1_camm  known_sol1  known_sol2  known_sol3\n",
       "0               3                   4           8           4           8\n",
       "1               5                   8          14           8          14\n",
       "2               7                  14          17          14          17\n",
       "3               8                  17          19          18          18\n",
       "4               9                  18          29          29          29\n",
       "5              28                  29          33          33          33\n",
       "6              35                  33          35          35          35\n",
       "7              40                  35          38          38          38\n",
       "8              45                  38          51          51          51\n",
       "9              49                  51          55          55          55\n",
       "10             51                  55          59          59          59\n",
       "11             69                  59          68          68          68\n",
       "12             72                  68          75          75          75\n",
       "13             75                  75          78          78          78\n",
       "14             76                  78          87          87          87"
      ]
     },
     "execution_count": 14,
     "metadata": {},
     "output_type": "execute_result"
    }
   ],
   "source": [
    "sol_dict = instance.x.get_values()\n",
    "sol1 = [k for k, v in sol_dict.items() if v == 1]\n",
    "sol1_camm = ppd.county_ids_to_camm_ids(df, sol1)\n",
    "pd.DataFrame(zip(sol1, sol1_camm, known_x_sols[0], known_x_sols[1], known_x_sols[2]), columns=[\"obtained_sol1\", \"obtained_sol1_camm\", \"known_sol1\", \"known_sol2\", \"known_sol3\"])"
   ]
  },
  {
   "attachments": {},
   "cell_type": "markdown",
   "metadata": {},
   "source": [
    "## Visualize solution"
   ]
  },
  {
   "cell_type": "code",
   "execution_count": 15,
   "metadata": {},
   "outputs": [],
   "source": [
    "sol_save = pd.Series(sol1)\n",
    "sol_save.to_csv(output_path / \"solution_model_1_static.csv\", index=False, header=['county_id'])"
   ]
  },
  {
   "cell_type": "code",
   "execution_count": 16,
   "metadata": {},
   "outputs": [
    {
     "name": "stdout",
     "output_type": "stream",
     "text": [
      "obj : Size=1, Index=None, Active=True\n",
      "    Key  : Active : Sense    : Expression\n",
      "    None :   True : minimize : x[1] + x[2] + x[3] + x[4] + x[5] + x[6] + x[7] + x[8] + x[9] + x[10] + x[11] + x[12] + x[13] + x[14] + x[15] + x[16] + x[17] + x[18] + x[19] + x[20] + x[21] + x[22] + x[23] + x[24] + x[25] + x[26] + x[27] + x[28] + x[29] + x[30] + x[31] + x[32] + x[33] + x[34] + x[35] + x[36] + x[37] + x[38] + x[39] + x[40] + x[41] + x[42] + x[43] + x[44] + x[45] + x[46] + x[47] + x[48] + x[49] + x[50] + x[51] + x[52] + x[53] + x[54] + x[55] + x[56] + x[57] + x[58] + x[59] + x[60] + x[61] + x[62] + x[63] + x[64] + x[65] + x[66] + x[67] + x[68] + x[69] + x[70] + x[71] + x[72] + x[73] + x[74] + x[75] + x[76] + x[77] + x[78] + x[79] + x[80] + x[81] + x[82] + x[83] + x[84] + x[85] + x[86] + x[87] + x[88]\n"
     ]
    }
   ],
   "source": [
    "instance.obj.pprint()"
   ]
  },
  {
   "cell_type": "code",
   "execution_count": 17,
   "metadata": {},
   "outputs": [
    {
     "name": "stdout",
     "output_type": "stream",
     "text": [
      "a_constraint : Size=88, Index=I, Active=True\n",
      "    Key : Lower : Body                                                                  : Upper : Active\n",
      "      1 :   1.0 :                                   x[1] + x[8] + x[36] + x[66] + x[73] :  +Inf :   True\n",
      "      2 :   1.0 :                           x[2] + x[6] + x[32] + x[33] + x[69] + x[81] :  +Inf :   True\n",
      "      3 :   1.0 :          x[3] + x[38] + x[39] + x[42] + x[47] + x[52] + x[70] + x[85] :  +Inf :   True\n",
      "      4 :   1.0 :                                          x[4] + x[28] + x[43] + x[78] :  +Inf :   True\n",
      "      5 :   1.0 :                  x[5] + x[37] + x[53] + x[58] + x[64] + x[82] + x[84] :  +Inf :   True\n",
      "      6 :   1.0 :           x[2] + x[6] + x[19] + x[33] + x[46] + x[54] + x[75] + x[81] :  +Inf :   True\n",
      "      7 :   1.0 :                          x[7] + x[30] + x[34] + x[41] + x[56] + x[61] :  +Inf :   True\n",
      "      8 :   1.0 :                                   x[1] + x[8] + x[13] + x[14] + x[36] :  +Inf :   True\n",
      "      9 :   1.0 :                                  x[9] + x[31] + x[57] + x[68] + x[83] :  +Inf :   True\n",
      "     10 :   1.0 :                         x[10] + x[15] + x[34] + x[41] + x[76] + x[79] :  +Inf :   True\n",
      "     11 :   1.0 :                 x[11] + x[12] + x[46] + x[49] + x[55] + x[75] + x[80] :  +Inf :   True\n",
      "     12 :   1.0 :                         x[11] + x[12] + x[29] + x[49] + x[55] + x[57] :  +Inf :   True\n",
      "     13 :   1.0 :                                  x[8] + x[13] + x[14] + x[31] + x[83] :  +Inf :   True\n",
      "     14 :   1.0 :                  x[8] + x[13] + x[14] + x[24] + x[29] + x[36] + x[83] :  +Inf :   True\n",
      "     15 :   1.0 :                                 x[10] + x[15] + x[41] + x[50] + x[76] :  +Inf :   True\n",
      "     16 :   1.0 :                 x[16] + x[30] + x[38] + x[42] + x[45] + x[60] + x[79] :  +Inf :   True\n",
      "     17 :   1.0 :                 x[17] + x[39] + x[51] + x[59] + x[70] + x[74] + x[88] :  +Inf :   True\n",
      "     18 :   1.0 :                         x[18] + x[28] + x[43] + x[47] + x[52] + x[77] :  +Inf :   True\n",
      "     19 :   1.0 :                  x[6] + x[19] + x[54] + x[55] + x[57] + x[68] + x[75] :  +Inf :   True\n",
      "     20 :   1.0 :                                 x[20] + x[35] + x[63] + x[69] + x[86] :  +Inf :   True\n",
      "     21 :   1.0 :                 x[21] + x[25] + x[42] + x[45] + x[51] + x[59] + x[80] :  +Inf :   True\n",
      "     22 :   1.0 :                                         x[22] + x[39] + x[47] + x[72] :  +Inf :   True\n",
      "     23 :   1.0 :                         x[23] + x[25] + x[37] + x[45] + x[64] + x[65] :  +Inf :   True\n",
      "     24 :   1.0 :                 x[14] + x[24] + x[29] + x[36] + x[49] + x[65] + x[71] :  +Inf :   True\n",
      "     25 :   1.0 :                 x[21] + x[23] + x[25] + x[45] + x[49] + x[65] + x[80] :  +Inf :   True\n",
      "     26 :   1.0 :                                         x[26] + x[35] + x[48] + x[86] :  +Inf :   True\n",
      "     27 :   1.0 :                                 x[27] + x[40] + x[44] + x[53] + x[82] :  +Inf :   True\n",
      "     28 :   1.0 :                          x[4] + x[18] + x[28] + x[43] + x[67] + x[78] :  +Inf :   True\n",
      "     29 :   1.0 :                 x[12] + x[14] + x[24] + x[29] + x[49] + x[57] + x[83] :  +Inf :   True\n",
      "     30 :   1.0 :                  x[7] + x[16] + x[30] + x[34] + x[60] + x[61] + x[79] :  +Inf :   True\n",
      "     31 :   1.0 :                                          x[9] + x[13] + x[31] + x[83] :  +Inf :   True\n",
      "     32 :   1.0 :                  x[2] + x[32] + x[33] + x[69] + x[74] + x[87] + x[88] :  +Inf :   True\n",
      "     33 :   1.0 :           x[2] + x[6] + x[32] + x[33] + x[46] + x[51] + x[80] + x[88] :  +Inf :   True\n",
      "     34 :   1.0 :                          x[7] + x[10] + x[30] + x[34] + x[41] + x[79] :  +Inf :   True\n",
      "     35 :   1.0 :                 x[20] + x[26] + x[35] + x[48] + x[69] + x[86] + x[87] :  +Inf :   True\n",
      "     36 :   1.0 :           x[1] + x[8] + x[14] + x[24] + x[27] + x[36] + x[66] + x[71] :  +Inf :   True\n",
      "     37 :   1.0 :                  x[5] + x[23] + x[37] + x[64] + x[65] + x[71] + x[82] :  +Inf :   True\n",
      "     38 :   1.0 :                  x[3] + x[16] + x[38] + x[42] + x[76] + x[79] + x[85] :  +Inf :   True\n",
      "     39 :   1.0 :          x[3] + x[17] + x[22] + x[39] + x[47] + x[70] + x[72] + x[74] :  +Inf :   True\n",
      "     40 :   1.0 :                 x[27] + x[40] + x[44] + x[66] + x[71] + x[73] + x[82] :  +Inf :   True\n",
      "     41 :   1.0 :                                  x[7] + x[10] + x[15] + x[34] + x[41] :  +Inf :   True\n",
      "     42 :   1.0 :          x[3] + x[16] + x[21] + x[38] + x[42] + x[45] + x[59] + x[70] :  +Inf :   True\n",
      "     43 :   1.0 :                                          x[4] + x[18] + x[28] + x[43] :  +Inf :   True\n",
      "     44 :   1.0 :                                         x[27] + x[40] + x[44] + x[73] :  +Inf :   True\n",
      "     45 :   1.0 :         x[16] + x[21] + x[23] + x[25] + x[42] + x[45] + x[60] + x[64] :  +Inf :   True\n",
      "     46 :   1.0 :                          x[6] + x[11] + x[33] + x[46] + x[75] + x[80] :  +Inf :   True\n",
      "     47 :   1.0 :                          x[3] + x[18] + x[22] + x[39] + x[47] + x[52] :  +Inf :   True\n",
      "     48 :   1.0 :                                 x[26] + x[35] + x[48] + x[62] + x[87] :  +Inf :   True\n",
      "     49 :   1.0 :         x[11] + x[12] + x[24] + x[25] + x[29] + x[49] + x[65] + x[80] :  +Inf :   True\n",
      "     50 :   1.0 :                                 x[15] + x[50] + x[67] + x[76] + x[78] :  +Inf :   True\n",
      "     51 :   1.0 :                 x[17] + x[21] + x[33] + x[51] + x[59] + x[80] + x[88] :  +Inf :   True\n",
      "     52 :   1.0 :                          x[3] + x[18] + x[47] + x[52] + x[77] + x[85] :  +Inf :   True\n",
      "     53 :   1.0 :                                          x[5] + x[27] + x[53] + x[82] :  +Inf :   True\n",
      "     54 :   1.0 :                                          x[6] + x[19] + x[54] + x[81] :  +Inf :   True\n",
      "     55 :   1.0 :                         x[11] + x[12] + x[19] + x[55] + x[57] + x[75] :  +Inf :   True\n",
      "     56 :   1.0 :                                          x[7] + x[56] + x[61] + x[84] :  +Inf :   True\n",
      "     57 :   1.0 :          x[9] + x[12] + x[19] + x[29] + x[55] + x[57] + x[68] + x[83] :  +Inf :   True\n",
      "     58 :   1.0 :                          x[5] + x[58] + x[60] + x[61] + x[64] + x[84] :  +Inf :   True\n",
      "     59 :   1.0 :                         x[17] + x[21] + x[42] + x[51] + x[59] + x[70] :  +Inf :   True\n",
      "     60 :   1.0 :                 x[16] + x[30] + x[45] + x[58] + x[60] + x[61] + x[64] :  +Inf :   True\n",
      "     61 :   1.0 :                  x[7] + x[30] + x[56] + x[58] + x[60] + x[61] + x[84] :  +Inf :   True\n",
      "     62 :   1.0 :                                         x[48] + x[62] + x[72] + x[87] :  +Inf :   True\n",
      "     63 :   1.0 :                                         x[20] + x[63] + x[69] + x[81] :  +Inf :   True\n",
      "     64 :   1.0 :                  x[5] + x[23] + x[37] + x[45] + x[58] + x[60] + x[64] :  +Inf :   True\n",
      "     65 :   1.0 :                 x[23] + x[24] + x[25] + x[37] + x[49] + x[65] + x[71] :  +Inf :   True\n",
      "     66 :   1.0 :                          x[1] + x[36] + x[40] + x[66] + x[71] + x[73] :  +Inf :   True\n",
      "     67 :   1.0 :                         x[28] + x[50] + x[67] + x[76] + x[77] + x[78] :  +Inf :   True\n",
      "     68 :   1.0 :                                          x[9] + x[19] + x[57] + x[68] :  +Inf :   True\n",
      "     69 :   1.0 :                  x[2] + x[20] + x[32] + x[35] + x[63] + x[69] + x[81] :  +Inf :   True\n",
      "     70 :   1.0 :                          x[3] + x[17] + x[39] + x[42] + x[59] + x[70] :  +Inf :   True\n",
      "     71 :   1.0 :         x[24] + x[36] + x[37] + x[40] + x[65] + x[66] + x[71] + x[82] :  +Inf :   True\n",
      "     72 :   1.0 :                         x[22] + x[39] + x[62] + x[72] + x[74] + x[87] :  +Inf :   True\n",
      "     73 :   1.0 :                                  x[1] + x[40] + x[44] + x[66] + x[73] :  +Inf :   True\n",
      "     74 :   1.0 :                 x[17] + x[32] + x[39] + x[72] + x[74] + x[87] + x[88] :  +Inf :   True\n",
      "     75 :   1.0 :                          x[6] + x[11] + x[19] + x[46] + x[55] + x[75] :  +Inf :   True\n",
      "     76 :   1.0 : x[10] + x[15] + x[38] + x[50] + x[67] + x[76] + x[77] + x[79] + x[85] :  +Inf :   True\n",
      "     77 :   1.0 :                         x[18] + x[52] + x[67] + x[76] + x[77] + x[85] :  +Inf :   True\n",
      "     78 :   1.0 :                                  x[4] + x[28] + x[50] + x[67] + x[78] :  +Inf :   True\n",
      "     79 :   1.0 :                 x[10] + x[16] + x[30] + x[34] + x[38] + x[76] + x[79] :  +Inf :   True\n",
      "     80 :   1.0 :         x[11] + x[21] + x[25] + x[33] + x[46] + x[49] + x[51] + x[80] :  +Inf :   True\n",
      "     81 :   1.0 :                           x[2] + x[6] + x[54] + x[63] + x[69] + x[81] :  +Inf :   True\n",
      "     82 :   1.0 :                  x[5] + x[27] + x[37] + x[40] + x[53] + x[71] + x[82] :  +Inf :   True\n",
      "     83 :   1.0 :                  x[9] + x[13] + x[14] + x[29] + x[31] + x[57] + x[83] :  +Inf :   True\n",
      "     84 :   1.0 :                                  x[5] + x[56] + x[58] + x[61] + x[84] :  +Inf :   True\n",
      "     85 :   1.0 :                          x[3] + x[38] + x[52] + x[76] + x[77] + x[85] :  +Inf :   True\n",
      "     86 :   1.0 :                                         x[20] + x[26] + x[35] + x[86] :  +Inf :   True\n",
      "     87 :   1.0 :                 x[32] + x[35] + x[48] + x[62] + x[72] + x[74] + x[87] :  +Inf :   True\n",
      "     88 :   1.0 :                         x[17] + x[32] + x[33] + x[51] + x[74] + x[88] :  +Inf :   True\n"
     ]
    }
   ],
   "source": [
    "instance.a_constraint.pprint()"
   ]
  },
  {
   "cell_type": "code",
   "execution_count": 18,
   "metadata": {},
   "outputs": [
    {
     "name": "stdout",
     "output_type": "stream",
     "text": [
      "obj : Size=1, Index=None, Active=True\n",
      "    Key  : Active : Sense    : Expression\n",
      "    None :   True : minimize : x[1] + x[2] + x[3] + x[4] + x[5] + x[6] + x[7] + x[8] + x[9] + x[10] + x[11] + x[12] + x[13] + x[14] + x[15] + x[16] + x[17] + x[18] + x[19] + x[20] + x[21] + x[22] + x[23] + x[24] + x[25] + x[26] + x[27] + x[28] + x[29] + x[30] + x[31] + x[32] + x[33] + x[34] + x[35] + x[36] + x[37] + x[38] + x[39] + x[40] + x[41] + x[42] + x[43] + x[44] + x[45] + x[46] + x[47] + x[48] + x[49] + x[50] + x[51] + x[52] + x[53] + x[54] + x[55] + x[56] + x[57] + x[58] + x[59] + x[60] + x[61] + x[62] + x[63] + x[64] + x[65] + x[66] + x[67] + x[68] + x[69] + x[70] + x[71] + x[72] + x[73] + x[74] + x[75] + x[76] + x[77] + x[78] + x[79] + x[80] + x[81] + x[82] + x[83] + x[84] + x[85] + x[86] + x[87] + x[88]\n"
     ]
    }
   ],
   "source": [
    "instance.obj.pprint()"
   ]
  }
 ],
 "metadata": {
  "kernelspec": {
   "display_name": "ise-533",
   "language": "python",
   "name": "python3"
  },
  "language_info": {
   "codemirror_mode": {
    "name": "ipython",
    "version": 3
   },
   "file_extension": ".py",
   "mimetype": "text/x-python",
   "name": "python",
   "nbconvert_exporter": "python",
   "pygments_lexer": "ipython3",
   "version": "3.11.0"
  },
  "orig_nbformat": 4,
  "vscode": {
   "interpreter": {
    "hash": "278b6d78291e10098305ddb5a9cf9f04bd654eaf46b65a75154295c2ec1fd6df"
   }
  }
 },
 "nbformat": 4,
 "nbformat_minor": 2
}
