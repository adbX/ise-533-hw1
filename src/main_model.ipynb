{
 "cells": [
  {
   "cell_type": "code",
   "execution_count": 1,
   "metadata": {},
   "outputs": [],
   "source": [
    "import pyomo.environ as pyo\n",
    "import pandas as pd\n",
    "from pathlib import Path\n",
    "import preprocess_data as ppd\n",
    "from itertools import zip_longest\n",
    "\n",
    "# from Camm18 paper to verify obtained results later\n",
    "known_x_sols = [\n",
    "    [8, 14, 17, 19, 29, 33, 35, 38, 51, 55, 59, 68, 75, 78, 87],\n",
    "    [4, 8, 14, 18, 29, 33, 35, 38, 51, 55, 59, 68, 75, 78, 87],\n",
    "    [8, 14, 17, 18, 29, 33, 35, 38, 51, 55, 59, 68, 75, 78, 87],\n",
    "]"
   ]
  },
  {
   "attachments": {},
   "cell_type": "markdown",
   "metadata": {},
   "source": [
    "## 1. Solve Camm18's network location problem for 2011 data {-}"
   ]
  },
  {
   "attachments": {},
   "cell_type": "markdown",
   "metadata": {},
   "source": [
    "### Data import {-}"
   ]
  },
  {
   "cell_type": "code",
   "execution_count": 2,
   "metadata": {},
   "outputs": [],
   "source": [
    "data_path = Path(\"../data/\")\n",
    "output_path = Path(\"../output/\")\n",
    "df, adjacent_matrix = ppd.get_df_adj(data_path, 2021)"
   ]
  },
  {
   "attachments": {},
   "cell_type": "markdown",
   "metadata": {},
   "source": [
    "### Constraint equation definitions {-}"
   ]
  },
  {
   "cell_type": "code",
   "execution_count": 3,
   "metadata": {},
   "outputs": [],
   "source": [
    "def param_adjacent(m, i, j):\n",
    "    return int(j in adjacent_matrix[i])\n",
    "\n",
    "def param_pop_2011(m, i):\n",
    "    return df[\"population_2010\"][i - 1]\n",
    "\n",
    "def param_pop_2020(m, i):\n",
    "    return df[\"population_2020\"][i - 1]\n",
    "\n",
    "def con_a(m, i):\n",
    "    return sum((m.a[i, j] * m.x[j]) for j in m.J) >= m.y[i]\n",
    "\n",
    "def con_x(m):\n",
    "    return sum(m.x[j] for j in m.J) <= m.k\n",
    "\n",
    "def obj_sum(m):\n",
    "    return pyo.summation(m.p, m.y)"
   ]
  },
  {
   "attachments": {},
   "cell_type": "markdown",
   "metadata": {},
   "source": [
    "### Model setup {-}"
   ]
  },
  {
   "cell_type": "code",
   "execution_count": 4,
   "metadata": {},
   "outputs": [],
   "source": [
    "def instantiate_model(name, year=2011, k=15):\n",
    "    name = pyo.AbstractModel()\n",
    "    \n",
    "    # value of n (number of counties)\n",
    "    name.n = 88\n",
    "\n",
    "    # limit on number of pirincipal places of buisnesses opened (init to 5)\n",
    "    name.k = k\n",
    "\n",
    "    # range of i and j (iterating over counties)\n",
    "    name.I = pyo.RangeSet(1, name.n)\n",
    "    name.J = pyo.RangeSet(1, name.n)\n",
    "\n",
    "    if year==2011:\n",
    "        name.p = pyo.Param(name.I, initialize=param_pop_2011)\n",
    "    elif year==2020:\n",
    "        name.p = pyo.Param(name.I, initialize=param_pop_2020)  # population of county i\n",
    "\n",
    "    name.a = pyo.Param(\n",
    "        name.I, name.J, domain=pyo.Binary, initialize=param_adjacent\n",
    "    )  # 1 if county i and j are adjacent\n",
    "\n",
    "    name.x = pyo.Var(\n",
    "        name.J, domain=pyo.Binary\n",
    "    )  # 1 if principal place of business is opened in county j\n",
    "    name.y = pyo.Var(name.I, domain=pyo.Binary)  # 1 if county i is covered\n",
    "\n",
    "    name.obj = pyo.Objective(rule=obj_sum, sense=pyo.maximize)\n",
    "\n",
    "    name.a_constraint = pyo.Constraint(name.I, rule=con_a)\n",
    "    \n",
    "    name.x_constraint = pyo.Constraint(rule=con_x)\n",
    "    \n",
    "    return name"
   ]
  },
  {
   "attachments": {},
   "cell_type": "markdown",
   "metadata": {},
   "source": [
    "### First solution {-}"
   ]
  },
  {
   "cell_type": "code",
   "execution_count": 5,
   "metadata": {},
   "outputs": [],
   "source": [
    "model = instantiate_model(\"model\", 2011)\n",
    "# opt = pyo.SolverFactory(\"ipopt\", executable=\"/home/adb/anaconda3/bin/ipopt\")\n",
    "opt = pyo.SolverFactory(\"glpk\", executable=\"/home/adb/anaconda3/bin/glpsol\")\n",
    "# opt = pyo.SolverFactory(\"glpk\", executable=\"/usr/local/Caskroom/miniconda/base/bin/glpsol\")"
   ]
  },
  {
   "cell_type": "code",
   "execution_count": 6,
   "metadata": {},
   "outputs": [],
   "source": [
    "instance1 = model.create_instance()\n",
    "results1 = opt.solve(instance1)"
   ]
  },
  {
   "cell_type": "code",
   "execution_count": 7,
   "metadata": {},
   "outputs": [],
   "source": [
    "def get_solutions(instance):\n",
    "    sol_dict = instance.x.get_values()\n",
    "    sol = [k for k, v in sol_dict.items() if v == 1]\n",
    "    return sol\n",
    "\n",
    "def get_solution_set_inverse(solution):\n",
    "    return set([i for i in range(1, model.n + 1)]) - set(solution)"
   ]
  },
  {
   "cell_type": "code",
   "execution_count": 8,
   "metadata": {},
   "outputs": [],
   "source": [
    "sol1 = get_solutions(instance1)\n",
    "sol1_compare = sol1\n",
    "inverse_sol1 = get_solution_set_inverse(sol1)\n",
    "sol1_camm = ppd.county_ids_to_camm_ids(df, sol1)\n",
    "pd.Series(sol1).to_csv(\n",
    "    output_path / \"solution_main_model_sol1.csv\", index=False, header=[\"county_id\"]\n",
    ")"
   ]
  },
  {
   "cell_type": "code",
   "execution_count": 9,
   "metadata": {},
   "outputs": [
    {
     "name": "stdout",
     "output_type": "stream",
     "text": [
      "Obtained Solution 1: \n",
      "[3, 5, 7, 8, 9, 26, 28, 40, 45, 49, 51, 69, 72, 75, 76]\n",
      "Obtained Solution 1 with Camm18 indexing method: \n",
      "[8, 14, 17, 19, 29, 33, 35, 38, 51, 55, 59, 68, 75, 78, 87]\n",
      "Solution 1 from Camm18 paper: \n",
      "[8, 14, 17, 19, 29, 33, 35, 38, 51, 55, 59, 68, 75, 78, 87]\n"
     ]
    }
   ],
   "source": [
    "print(f\"Obtained Solution 1 with Camm18 indexing method: \\n{sol1_camm}\")\n",
    "print(f\"Solution 1 from Camm18 paper: \\n{known_x_sols[0]}\")"
   ]
  },
  {
   "attachments": {},
   "cell_type": "markdown",
   "metadata": {},
   "source": [
    "### Re-solve for 2nd solution {-}"
   ]
  },
  {
   "cell_type": "code",
   "execution_count": 10,
   "metadata": {},
   "outputs": [],
   "source": [
    "def con_x_sol2(m):\n",
    "    return sum(m.x[i] for i in sol1) - sum(m.x[j] for j in inverse_sol1) <= len(sol1) - 1\n",
    "\n",
    "\n",
    "model.sol2_constraint = pyo.Constraint(rule=con_x_sol2)\n",
    "\n",
    "instance2 = model.create_instance()\n",
    "results2 = opt.solve(instance2)"
   ]
  },
  {
   "cell_type": "code",
   "execution_count": 11,
   "metadata": {},
   "outputs": [],
   "source": [
    "sol2 = get_solutions(instance2)\n",
    "inverse_sol2 = get_solution_set_inverse(sol2)\n",
    "sol2_camm = ppd.county_ids_to_camm_ids(df, sol2)\n",
    "pd.Series(sol2).to_csv(\n",
    "    output_path / \"solution_main_model_sol2.csv\", index=False, header=[\"county_id\"]\n",
    ")"
   ]
  },
  {
   "cell_type": "code",
   "execution_count": 12,
   "metadata": {},
   "outputs": [
    {
     "name": "stdout",
     "output_type": "stream",
     "text": [
      "Obtained Solution 2: \n",
      "[8, 14, 17, 18, 29, 33, 35, 38, 51, 55, 59, 68, 75, 78, 87]\n",
      "Solution 2 from Camm18 paper: \n",
      "[8, 14, 17, 18, 29, 33, 35, 38, 51, 55, 59, 68, 75, 78, 87]\n"
     ]
    }
   ],
   "source": [
    "print(f\"Obtained Solution 2: \\n{sol2_camm}\")\n",
    "print(f\"Solution 2 from Camm18 paper: \\n{known_x_sols[2]}\")"
   ]
  },
  {
   "attachments": {},
   "cell_type": "markdown",
   "metadata": {},
   "source": [
    "### Re-solve for 3rd solution {-}"
   ]
  },
  {
   "cell_type": "code",
   "execution_count": 13,
   "metadata": {},
   "outputs": [],
   "source": [
    "def con_x_sol3(m):\n",
    "    return sum(m.x[i] for i in sol2) - sum(m.x[j] for j in inverse_sol2) <= len(sol2) - 1\n",
    "\n",
    "\n",
    "model.sol3_constraint = pyo.Constraint(rule=con_x_sol3)\n",
    "\n",
    "instance3 = model.create_instance()\n",
    "results3 = opt.solve(instance3)"
   ]
  },
  {
   "cell_type": "code",
   "execution_count": 14,
   "metadata": {},
   "outputs": [],
   "source": [
    "sol3 = get_solutions(instance3)\n",
    "inverse_sol3 = get_solution_set_inverse(sol3)\n",
    "sol3_camm = ppd.county_ids_to_camm_ids(df, sol3)\n",
    "pd.Series(sol3).to_csv(\n",
    "    output_path / \"solution_main_model_sol3.csv\", index=False, header=[\"county_id\"]\n",
    ")"
   ]
  },
  {
   "cell_type": "code",
   "execution_count": 15,
   "metadata": {},
   "outputs": [
    {
     "name": "stdout",
     "output_type": "stream",
     "text": [
      "Obtained Solution 3\n",
      "[4, 8, 14, 18, 29, 33, 35, 38, 51, 55, 59, 68, 75, 78, 87]\n",
      "Solution 3 from Camm18 paper: \n",
      "[4, 8, 14, 18, 29, 33, 35, 38, 51, 55, 59, 68, 75, 78, 87]\n"
     ]
    }
   ],
   "source": [
    "print(f\"Obtained Solution 3\\n{sol3_camm}\")\n",
    "print(f\"Solution 3 from Camm18 paper: \\n{known_x_sols[1]}\")"
   ]
  },
  {
   "attachments": {},
   "cell_type": "markdown",
   "metadata": {},
   "source": [
    "### Verify obtained solutions with ones from the Camm18 paper {-}"
   ]
  },
  {
   "cell_type": "code",
   "execution_count": 16,
   "metadata": {},
   "outputs": [
    {
     "name": "stdout",
     "output_type": "stream",
     "text": [
      "Solution 1 \n",
      "Result:[8, 14, 17, 19, 29, 33, 35, 38, 51, 55, 59, 68, 75, 78, 87] \n",
      "Camm18:[8, 14, 17, 19, 29, 33, 35, 38, 51, 55, 59, 68, 75, 78, 87] \n",
      " ----\n",
      "Solution 2 \n",
      "Result:[8, 14, 17, 18, 29, 33, 35, 38, 51, 55, 59, 68, 75, 78, 87] \n",
      "Camm18:[4, 8, 14, 18, 29, 33, 35, 38, 51, 55, 59, 68, 75, 78, 87] \n",
      " ----\n",
      "Solution 3 \n",
      "Result:[4, 8, 14, 18, 29, 33, 35, 38, 51, 55, 59, 68, 75, 78, 87] \n",
      "Camm18:[8, 14, 17, 18, 29, 33, 35, 38, 51, 55, 59, 68, 75, 78, 87] \n",
      " ----\n"
     ]
    }
   ],
   "source": [
    "print(f\"Solution 1 \\nResult:{sol1_camm} \\nCamm18:{known_x_sols[0]} \\n ----\")\n",
    "print(f\"Solution 2 \\nResult:{sol2_camm} \\nCamm18:{known_x_sols[1]} \\n ----\")\n",
    "print(f\"Solution 3 \\nResult:{sol3_camm} \\nCamm18:{known_x_sols[2]} \\n ----\")"
   ]
  },
  {
   "attachments": {},
   "cell_type": "markdown",
   "metadata": {},
   "source": [
    "## 2. Solve the same problem for 2020 data {-}"
   ]
  },
  {
   "cell_type": "code",
   "execution_count": 17,
   "metadata": {},
   "outputs": [
    {
     "name": "stdout",
     "output_type": "stream",
     "text": [
      "Solution 1 \n",
      "Result:[4, 8, 14, 18, 29, 33, 35, 38, 51, 55, 59, 68, 75, 78, 87] \n",
      "Camm18:[4, 8, 14, 18, 29, 33, 35, 38, 51, 55, 59, 68, 75, 78, 87] \n",
      " ----\n",
      "Solution 2 \n",
      "Result:[8, 14, 17, 18, 29, 33, 35, 38, 51, 55, 59, 68, 75, 78, 87] \n",
      "Camm18:[8, 14, 17, 19, 29, 33, 35, 38, 51, 55, 59, 68, 75, 78, 87] \n",
      " ----\n",
      "Solution 3 \n",
      "Result:[8, 14, 17, 19, 29, 33, 35, 38, 51, 55, 59, 68, 75, 78, 87] \n",
      "Camm18:[8, 14, 17, 18, 29, 33, 35, 38, 51, 55, 59, 68, 75, 78, 87] \n",
      " ----\n"
     ]
    }
   ],
   "source": [
    "model_2020 = instantiate_model(\"model2020\", 2020)\n",
    "\n",
    "instance1 = model_2020.create_instance()\n",
    "results1 = opt.solve(instance1)\n",
    "\n",
    "sol1 = get_solutions(instance1)\n",
    "inverse_sol1 = get_solution_set_inverse(sol1)\n",
    "sol1_camm = ppd.county_ids_to_camm_ids(df, sol1)\n",
    "\n",
    "model_2020.sol2_constraint = pyo.Constraint(rule=con_x_sol2)\n",
    "\n",
    "instance2 = model_2020.create_instance()\n",
    "results2 = opt.solve(instance2)\n",
    "\n",
    "sol2 = get_solutions(instance2)\n",
    "inverse_sol2 = get_solution_set_inverse(sol2)\n",
    "sol2_camm = ppd.county_ids_to_camm_ids(df, sol2)\n",
    "\n",
    "model_2020.sol3_constraint = pyo.Constraint(rule=con_x_sol3)\n",
    "\n",
    "instance3 = model_2020.create_instance()\n",
    "results3 = opt.solve(instance3)\n",
    "\n",
    "sol3 = get_solutions(instance3)\n",
    "inverse_sol3 = get_solution_set_inverse(sol3)\n",
    "sol3_camm = ppd.county_ids_to_camm_ids(df, sol3)\n",
    "\n",
    "print(f\"Solution 1 \\nResult:{sol1_camm} \\nCamm18:{known_x_sols[1]} \\n ----\")\n",
    "print(f\"Solution 2 \\nResult:{sol2_camm} \\nCamm18:{known_x_sols[0]} \\n ----\")\n",
    "print(f\"Solution 3 \\nResult:{sol3_camm} \\nCamm18:{known_x_sols[2]} \\n ----\")"
   ]
  },
  {
   "attachments": {},
   "cell_type": "markdown",
   "metadata": {},
   "source": [
    "We observe that the $x_i$ solution sets are indentical for both the 2020 and 2011 population datasets."
   ]
  },
  {
   "attachments": {},
   "cell_type": "markdown",
   "metadata": {},
   "source": [
    "## 3. Verify Camm18's 3 year-implementation method {-}"
   ]
  },
  {
   "attachments": {},
   "cell_type": "markdown",
   "metadata": {},
   "source": [
    "We use the first solution set from the 2011 data to verify the 3 year-implementation method from the paper. We will instantiate a new model using our previously created template but with `k=5` which will constrain the number of solutions $x_i$ to 5 for each run."
   ]
  },
  {
   "cell_type": "code",
   "execution_count": 18,
   "metadata": {},
   "outputs": [],
   "source": [
    "solution_set_initial = sol1_compare\n",
    "solution_set_initial_camm = ppd.county_ids_to_camm_ids(df, solution_set_initial)\n",
    "\n",
    "## Year 1\n",
    "model1 = instantiate_model(\"model_verify\", 2011, k=5)\n",
    "instance1 = model1.create_instance()\n",
    "\n",
    "# We fix the all solutions not in initial solution set to 0\n",
    "for i in get_solution_set_inverse(solution_set_initial):\n",
    "    instance1.x[i].fix(0)\n",
    "\n",
    "results1 = opt.solve(instance1)\n",
    "sol1 = get_solutions(instance1)\n",
    "inverse_sol1 = get_solution_set_inverse(sol1)\n",
    "sol1_camm = ppd.county_ids_to_camm_ids(df, sol1)\n",
    "\n",
    "## Year 2\n",
    "model2 = instantiate_model(\"model_verify\", 2011, k=10)\n",
    "instance2 = model2.create_instance()\n",
    "\n",
    "## We fix x_i to 1 for the solution set from year 1\n",
    "for i in get_solution_set_inverse(solution_set_initial):\n",
    "    instance1.x[i].fix(0)\n",
    "for i in sol1:\n",
    "    instance2.x[i].fix(1)\n",
    "\n",
    "results2 = opt.solve(instance2)\n",
    "sol2 = get_solutions(instance2)\n",
    "inverse_sol2 = get_solution_set_inverse(sol2)\n",
    "sol2_camm = ppd.county_ids_to_camm_ids(df, sol2)\n",
    "\n",
    "## Year 3\n",
    "model3 = instantiate_model(\"model_verify\", 2011, k=15)\n",
    "instance3 = model3.create_instance()\n",
    "\n",
    "## We fix x_i to 1 for the solution set from year 2\n",
    "for i in get_solution_set_inverse(solution_set_initial):\n",
    "    instance1.x[i].fix(0)\n",
    "for i in sol1:\n",
    "    instance2.x[i].fix(1)\n",
    "for i in sol2:\n",
    "    instance3.x[i].fix(1)\n",
    "\n",
    "results3 = opt.solve(instance3)\n",
    "sol3 = get_solutions(instance3)\n",
    "inverse_sol3 = get_solution_set_inverse(sol3)\n",
    "sol3_camm = ppd.county_ids_to_camm_ids(df, sol3)\n",
    "\n",
    "extraneous = set(solution_set_initial_camm) - set(sol3_camm)\n",
    "missing = set(sol3_camm) - set(solution_set_initial_camm)"
   ]
  },
  {
   "cell_type": "code",
   "execution_count": 19,
   "metadata": {},
   "outputs": [
    {
     "name": "stdout",
     "output_type": "stream",
     "text": [
      "Initial solution set: \n",
      "        [8, 14, 17, 19, 29, 33, 35, 38, 51, 55, 59, 68, 75, 78, 87]\n",
      "Our calculated 3 year glide path:\n",
      "Year 1: [8, 55, 59, 75, 78]\n",
      "Year 2: [8, 15, 21, 25, 28, 51, 55, 59, 75, 78]\n",
      "Year 3: [8, 15, 18, 21, 25, 28, 41, 42, 51, 55, 59, 68, 75, 78, 87]\n"
     ]
    }
   ],
   "source": [
    "print(f\"Initial solution set: \\n        {solution_set_initial_camm}\")\n",
    "print(f\"Our calculated 3 year glide path:\")\n",
    "print(f\"Year 1: {sol1_camm}\")\n",
    "print(f\"Year 2: {sol2_camm}\")\n",
    "print(f\"Year 3: {sol3_camm}\")"
   ]
  },
  {
   "attachments": {},
   "cell_type": "markdown",
   "metadata": {},
   "source": [
    "Our calculated first year solution is completely contained in the initial solution set from part 2. However the solutions for the second and third years diverge as follows:"
   ]
  },
  {
   "cell_type": "code",
   "execution_count": 20,
   "metadata": {},
   "outputs": [
    {
     "name": "stdout",
     "output_type": "stream",
     "text": [
      "Counties missing from our year 3 solution that are in the initial solution set: \n",
      "{41, 42, 15, 18, 21, 25, 28}\n",
      "Counties included in our year 3 solution that are not the initial solution set: \n",
      "{33, 35, 38, 14, 17, 19, 29}\n"
     ]
    }
   ],
   "source": [
    "print(f\"Counties missing from our year 3 solution that are in the initial solution set: \\n{missing}\")\n",
    "print(f\"Counties included in our year 3 solution that are not the initial solution set: \\n{extraneous}\")"
   ]
  }
 ],
 "metadata": {
  "kernelspec": {
   "display_name": "ise-533",
   "language": "python",
   "name": "python3"
  },
  "language_info": {
   "codemirror_mode": {
    "name": "ipython",
    "version": 3
   },
   "file_extension": ".py",
   "mimetype": "text/x-python",
   "name": "python",
   "nbconvert_exporter": "python",
   "pygments_lexer": "ipython3",
   "version": "3.11.0"
  },
  "orig_nbformat": 4,
  "vscode": {
   "interpreter": {
    "hash": "278b6d78291e10098305ddb5a9cf9f04bd654eaf46b65a75154295c2ec1fd6df"
   }
  }
 },
 "nbformat": 4,
 "nbformat_minor": 2
}
