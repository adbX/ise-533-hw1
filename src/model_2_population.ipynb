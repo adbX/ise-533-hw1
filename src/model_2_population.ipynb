{
 "cells": [
  {
   "cell_type": "code",
   "execution_count": 1,
   "metadata": {},
   "outputs": [],
   "source": [
    "import pyomo.environ as pyo\n",
    "import pandas as pd\n",
    "from pathlib import Path\n",
    "import preprocess_data as ppd"
   ]
  },
  {
   "attachments": {},
   "cell_type": "markdown",
   "metadata": {},
   "source": [
    "## Data"
   ]
  },
  {
   "cell_type": "code",
   "execution_count": 2,
   "metadata": {},
   "outputs": [],
   "source": [
    "data_path = Path(\"../data/\")\n",
    "output_path = Path(\"../output/\")\n",
    "df, adjacent_matrix = ppd.get_df_adj(data_path, 2021)\n",
    "model = pyo.AbstractModel()"
   ]
  },
  {
   "cell_type": "markdown",
   "metadata": {},
   "source": [
    "## Defs"
   ]
  },
  {
   "cell_type": "code",
   "execution_count": 3,
   "metadata": {},
   "outputs": [],
   "source": [
    "def param_adjacent(m, i, j):\n",
    "    return int(j in adjacent_matrix[i])\n",
    "\n",
    "def param_pop(m, i):\n",
    "    return df[\"population\"][i - 1]\n",
    "\n",
    "def con_a(m, i):\n",
    "    return sum((m.a[i, j] * m.x[j]) for j in m.J) >= m.y[i]\n",
    "\n",
    "def con_x(m):\n",
    "    return sum(m.x[j] for j in m.J) <= m.k\n",
    "\n",
    "def obj_sum(m):\n",
    "    return pyo.summation(m.p, m.y)"
   ]
  },
  {
   "attachments": {},
   "cell_type": "markdown",
   "metadata": {},
   "source": [
    "## Constraints"
   ]
  },
  {
   "cell_type": "code",
   "execution_count": 4,
   "metadata": {},
   "outputs": [],
   "source": [
    "# value of n (number of counties)\n",
    "model.n = 88\n",
    "\n",
    "# TOSET limit on number of pirincipal places of buisnesses opened (init to 5)\n",
    "model.k = 15\n",
    "\n",
    "# range of i and j (iterating over counties)\n",
    "model.I = pyo.RangeSet(1, model.n)\n",
    "model.J = pyo.RangeSet(1, model.n)\n",
    "\n",
    "model.p = pyo.Param(model.I, initialize=param_pop)  # population of county i\n",
    "\n",
    "# model.a = pyo.Set(model.I, model.J, within=pyo.Binary, initialize=param_adjacent)  # 1 if county i and j are adjacent\n",
    "model.a = pyo.Param(model.I, model.J, domain=pyo.Binary, initialize=param_adjacent)  # 1 if county i and j are adjacent\n",
    "\n",
    "model.x = pyo.Var(model.J, domain=pyo.Binary)  # 1 if principal place of business is opened in county j\n",
    "model.y = pyo.Var(model.I, domain=pyo.Binary)  # 1 if county i is covered\n",
    "\n",
    "model.obj = pyo.Objective(rule=obj_sum, sense=pyo.maximize)\n",
    "\n",
    "model.a_constraint = pyo.Constraint(model.I, rule=con_a)\n",
    "model.x_constraint = pyo.Constraint(rule=con_x)"
   ]
  },
  {
   "attachments": {},
   "cell_type": "markdown",
   "metadata": {},
   "source": [
    "## Solve"
   ]
  },
  {
   "cell_type": "code",
   "execution_count": 5,
   "metadata": {},
   "outputs": [
    {
     "name": "stdout",
     "output_type": "stream",
     "text": [
      "# ==========================================================\n",
      "# = Solver Results                                         =\n",
      "# ==========================================================\n",
      "# ----------------------------------------------------------\n",
      "#   Problem Information\n",
      "# ----------------------------------------------------------\n",
      "Problem: \n",
      "- Name: unknown\n",
      "  Lower bound: 11769923.0\n",
      "  Upper bound: 11769923.0\n",
      "  Number of objectives: 1\n",
      "  Number of constraints: 90\n",
      "  Number of variables: 177\n",
      "  Number of nonzeros: 725\n",
      "  Sense: maximize\n",
      "# ----------------------------------------------------------\n",
      "#   Solver Information\n",
      "# ----------------------------------------------------------\n",
      "Solver: \n",
      "- Status: ok\n",
      "  Termination condition: optimal\n",
      "  Statistics: \n",
      "    Branch and bound: \n",
      "      Number of bounded subproblems: 21\n",
      "      Number of created subproblems: 21\n",
      "  Error rc: 0\n",
      "  Time: 0.01042795181274414\n",
      "# ----------------------------------------------------------\n",
      "#   Solution Information\n",
      "# ----------------------------------------------------------\n",
      "Solution: \n",
      "- number of solutions: 0\n",
      "  number of solutions displayed: 0\n"
     ]
    }
   ],
   "source": [
    "instance = model.create_instance()\n",
    "# opt = pyo.SolverFactory(\"ipopt\", executable=\"/home/adb/anaconda3/bin/ipopt\")\n",
    "opt = pyo.SolverFactory(\"glpk\", executable=\"/home/adb/anaconda3/bin/glpsol\")\n",
    "# opt = pyo.SolverFactory(\"glpk\", executable=\"/usr/local/Caskroom/miniconda/base/bin/glpsol\")\n",
    "results = opt.solve(instance).write()\n",
    "results\n",
    "# instance.pprint()\n",
    "# instance.solutions.store_to(results)\n",
    "# model21.pprint()\n",
    "# model21.x.get_values()\n",
    "# solution.print_data()\n",
    "# solution.solutions.store_to(results)"
   ]
  },
  {
   "attachments": {},
   "cell_type": "markdown",
   "metadata": {},
   "source": [
    "## Verify"
   ]
  },
  {
   "cell_type": "code",
   "execution_count": 6,
   "metadata": {},
   "outputs": [
    {
     "data": {
      "text/html": [
       "<div>\n",
       "<style scoped>\n",
       "    .dataframe tbody tr th:only-of-type {\n",
       "        vertical-align: middle;\n",
       "    }\n",
       "\n",
       "    .dataframe tbody tr th {\n",
       "        vertical-align: top;\n",
       "    }\n",
       "\n",
       "    .dataframe thead th {\n",
       "        text-align: right;\n",
       "    }\n",
       "</style>\n",
       "<table border=\"1\" class=\"dataframe\">\n",
       "  <thead>\n",
       "    <tr style=\"text-align: right;\">\n",
       "      <th></th>\n",
       "      <th>obtained_sol1</th>\n",
       "      <th>obtained_sol1_camm</th>\n",
       "    </tr>\n",
       "  </thead>\n",
       "  <tbody>\n",
       "    <tr>\n",
       "      <th>0</th>\n",
       "      <td>3</td>\n",
       "      <td>4</td>\n",
       "    </tr>\n",
       "    <tr>\n",
       "      <th>1</th>\n",
       "      <td>5</td>\n",
       "      <td>8</td>\n",
       "    </tr>\n",
       "    <tr>\n",
       "      <th>2</th>\n",
       "      <td>7</td>\n",
       "      <td>14</td>\n",
       "    </tr>\n",
       "    <tr>\n",
       "      <th>3</th>\n",
       "      <td>8</td>\n",
       "      <td>18</td>\n",
       "    </tr>\n",
       "    <tr>\n",
       "      <th>4</th>\n",
       "      <td>9</td>\n",
       "      <td>29</td>\n",
       "    </tr>\n",
       "    <tr>\n",
       "      <th>5</th>\n",
       "      <td>28</td>\n",
       "      <td>33</td>\n",
       "    </tr>\n",
       "    <tr>\n",
       "      <th>6</th>\n",
       "      <td>35</td>\n",
       "      <td>35</td>\n",
       "    </tr>\n",
       "    <tr>\n",
       "      <th>7</th>\n",
       "      <td>40</td>\n",
       "      <td>38</td>\n",
       "    </tr>\n",
       "    <tr>\n",
       "      <th>8</th>\n",
       "      <td>45</td>\n",
       "      <td>51</td>\n",
       "    </tr>\n",
       "    <tr>\n",
       "      <th>9</th>\n",
       "      <td>49</td>\n",
       "      <td>55</td>\n",
       "    </tr>\n",
       "    <tr>\n",
       "      <th>10</th>\n",
       "      <td>51</td>\n",
       "      <td>59</td>\n",
       "    </tr>\n",
       "    <tr>\n",
       "      <th>11</th>\n",
       "      <td>72</td>\n",
       "      <td>68</td>\n",
       "    </tr>\n",
       "    <tr>\n",
       "      <th>12</th>\n",
       "      <td>75</td>\n",
       "      <td>75</td>\n",
       "    </tr>\n",
       "    <tr>\n",
       "      <th>13</th>\n",
       "      <td>76</td>\n",
       "      <td>78</td>\n",
       "    </tr>\n",
       "    <tr>\n",
       "      <th>14</th>\n",
       "      <td>81</td>\n",
       "      <td>87</td>\n",
       "    </tr>\n",
       "  </tbody>\n",
       "</table>\n",
       "</div>"
      ],
      "text/plain": [
       "    obtained_sol1  obtained_sol1_camm\n",
       "0               3                   4\n",
       "1               5                   8\n",
       "2               7                  14\n",
       "3               8                  18\n",
       "4               9                  29\n",
       "5              28                  33\n",
       "6              35                  35\n",
       "7              40                  38\n",
       "8              45                  51\n",
       "9              49                  55\n",
       "10             51                  59\n",
       "11             72                  68\n",
       "12             75                  75\n",
       "13             76                  78\n",
       "14             81                  87"
      ]
     },
     "execution_count": 6,
     "metadata": {},
     "output_type": "execute_result"
    }
   ],
   "source": [
    "sol_dict = instance.x.get_values()\n",
    "sol1 = [k for k, v in sol_dict.items() if v == 1]\n",
    "sol1_camm = ppd.county_ids_to_camm_ids(df, sol1)\n",
    "pd.DataFrame(zip(sol1, sol1_camm,), columns=[\"obtained_sol1\", \"obtained_sol1_camm\",])"
   ]
  },
  {
   "cell_type": "code",
   "execution_count": 7,
   "metadata": {},
   "outputs": [],
   "source": [
    "sol_save = pd.Series(sol1)\n",
    "sol_save.to_csv(output_path / \"solution_model_2_population.csv\", index=False, header=['county_id'])"
   ]
  }
 ],
 "metadata": {
  "kernelspec": {
   "display_name": "ise-533",
   "language": "python",
   "name": "python3"
  },
  "language_info": {
   "codemirror_mode": {
    "name": "ipython",
    "version": 3
   },
   "file_extension": ".py",
   "mimetype": "text/x-python",
   "name": "python",
   "nbconvert_exporter": "python",
   "pygments_lexer": "ipython3",
   "version": "3.11.0"
  },
  "orig_nbformat": 4,
  "vscode": {
   "interpreter": {
    "hash": "278b6d78291e10098305ddb5a9cf9f04bd654eaf46b65a75154295c2ec1fd6df"
   }
  }
 },
 "nbformat": 4,
 "nbformat_minor": 2
}
