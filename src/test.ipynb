{
 "cells": [
  {
   "cell_type": "code",
   "execution_count": 1,
   "metadata": {},
   "outputs": [],
   "source": [
    "import pandas as pd\n",
    "import pyomo.environ as pyo\n",
    "from collections import defaultdict\n",
    "from pathlib import Path\n",
    "import preprocess_data as ppd"
   ]
  },
  {
   "cell_type": "code",
   "execution_count": 2,
   "metadata": {},
   "outputs": [],
   "source": [
    "df, adjacent_matrix = ppd.get_df_adj(Path(\"../data\"), 2021)\n",
    "model = pyo.AbstractModel()"
   ]
  },
  {
   "cell_type": "code",
   "execution_count": 6,
   "metadata": {},
   "outputs": [
    {
     "data": {
      "text/html": [
       "<div>\n",
       "<style scoped>\n",
       "    .dataframe tbody tr th:only-of-type {\n",
       "        vertical-align: middle;\n",
       "    }\n",
       "\n",
       "    .dataframe tbody tr th {\n",
       "        vertical-align: top;\n",
       "    }\n",
       "\n",
       "    .dataframe thead th {\n",
       "        text-align: right;\n",
       "    }\n",
       "</style>\n",
       "<table border=\"1\" class=\"dataframe\">\n",
       "  <thead>\n",
       "    <tr style=\"text-align: right;\">\n",
       "      <th></th>\n",
       "      <th>county</th>\n",
       "      <th>county_id</th>\n",
       "      <th>population</th>\n",
       "      <th>fips</th>\n",
       "      <th>adjacent_id</th>\n",
       "      <th>adjacent_names</th>\n",
       "    </tr>\n",
       "  </thead>\n",
       "  <tbody>\n",
       "    <tr>\n",
       "      <th>35</th>\n",
       "      <td>Highland County</td>\n",
       "      <td>36</td>\n",
       "      <td>43162</td>\n",
       "      <td>39071</td>\n",
       "      <td>[1, 8, 14, 24, 27, 66, 71, 36]</td>\n",
       "      <td>[Adams County, Brown County, Clinton County, F...</td>\n",
       "    </tr>\n",
       "  </tbody>\n",
       "</table>\n",
       "</div>"
      ],
      "text/plain": [
       "             county  county_id  population   fips  \\\n",
       "35  Highland County         36       43162  39071   \n",
       "\n",
       "                       adjacent_id  \\\n",
       "35  [1, 8, 14, 24, 27, 66, 71, 36]   \n",
       "\n",
       "                                       adjacent_names  \n",
       "35  [Adams County, Brown County, Clinton County, F...  "
      ]
     },
     "execution_count": 6,
     "metadata": {},
     "output_type": "execute_result"
    }
   ],
   "source": [
    "df[df.county_id == 27]\n",
    "df[df.county_id == 36]"
   ]
  },
  {
   "cell_type": "code",
   "execution_count": null,
   "metadata": {},
   "outputs": [],
   "source": [
    "int(20 in adj_matrix[25])\n",
    "df[\"population\"][24 - 1]"
   ]
  }
 ],
 "metadata": {
  "kernelspec": {
   "display_name": "ise-533",
   "language": "python",
   "name": "python3"
  },
  "language_info": {
   "codemirror_mode": {
    "name": "ipython",
    "version": 3
   },
   "file_extension": ".py",
   "mimetype": "text/x-python",
   "name": "python",
   "nbconvert_exporter": "python",
   "pygments_lexer": "ipython3",
   "version": "3.11.0"
  },
  "orig_nbformat": 4,
  "vscode": {
   "interpreter": {
    "hash": "278b6d78291e10098305ddb5a9cf9f04bd654eaf46b65a75154295c2ec1fd6df"
   }
  }
 },
 "nbformat": 4,
 "nbformat_minor": 2
}
