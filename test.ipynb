{
 "cells": [
  {
   "cell_type": "code",
   "execution_count": 2,
   "metadata": {},
   "outputs": [
    {
     "ename": "ModuleNotFoundError",
     "evalue": "No module named 'pyomo'",
     "output_type": "error",
     "traceback": [
      "\u001b[0;31m---------------------------------------------------------------------------\u001b[0m",
      "\u001b[0;31mModuleNotFoundError\u001b[0m                       Traceback (most recent call last)",
      "Cell \u001b[0;32mIn[2], line 1\u001b[0m\n\u001b[0;32m----> 1\u001b[0m \u001b[39mimport\u001b[39;00m \u001b[39mpyomo\u001b[39;00m\u001b[39m.\u001b[39;00m\u001b[39menviron\u001b[39;00m \u001b[39mas\u001b[39;00m \u001b[39mpyo\u001b[39;00m\n\u001b[1;32m      3\u001b[0m model \u001b[39m=\u001b[39m pyo\u001b[39m.\u001b[39mConcreteModel()\n\u001b[1;32m      5\u001b[0m model\u001b[39m.\u001b[39mx \u001b[39m=\u001b[39m pyo\u001b[39m.\u001b[39mVar([\u001b[39m1\u001b[39m,\u001b[39m2\u001b[39m], domain\u001b[39m=\u001b[39mpyo\u001b[39m.\u001b[39mNonNegativeReals)\n",
      "\u001b[0;31mModuleNotFoundError\u001b[0m: No module named 'pyomo'"
     ]
    }
   ],
   "source": [
    "import pyomo.environ as pyo\n",
    "\n",
    "model = pyo.ConcreteModel()\n",
    "\n",
    "model.x = pyo.Var([1,2], domain=pyo.NonNegativeReals)\n",
    "\n",
    "model.OBJ = pyo.Objective(expr = 2*model.x[1] + 3*model.x[2])\n",
    "\n",
    "model.Constraint1 = pyo.Constraint(expr = 3*model.x[1] + 4*model.x[2] >= 1)"
   ]
  }
 ],
 "metadata": {
  "kernelspec": {
   "display_name": "ise-533",
   "language": "python",
   "name": "python3"
  },
  "language_info": {
   "codemirror_mode": {
    "name": "ipython",
    "version": 3
   },
   "file_extension": ".py",
   "mimetype": "text/x-python",
   "name": "python",
   "nbconvert_exporter": "python",
   "pygments_lexer": "ipython3",
   "version": "3.11.0"
  },
  "orig_nbformat": 4,
  "vscode": {
   "interpreter": {
    "hash": "278b6d78291e10098305ddb5a9cf9f04bd654eaf46b65a75154295c2ec1fd6df"
   }
  }
 },
 "nbformat": 4,
 "nbformat_minor": 2
}
