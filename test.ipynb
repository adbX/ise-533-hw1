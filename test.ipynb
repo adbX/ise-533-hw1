{
 "cells": [
  {
   "cell_type": "code",
   "execution_count": 1,
   "metadata": {},
   "outputs": [],
   "source": [
    "import pandas as pd\n",
    "import pyomo.environ as pyo\n",
    "from collections import defaultdict\n",
    "from pathlib import Path\n",
    "\n",
    "# conda install -c conda-forge coincbc\n",
    "# conda install -c conda-forge ipopt"
   ]
  },
  {
   "cell_type": "code",
   "execution_count": 2,
   "metadata": {},
   "outputs": [],
   "source": [
    "def data_ingest(data_path: Path, year: int):\n",
    "    counties = pd.read_csv(data_path / \"oh_county_list.csv\")\n",
    "    counties[\"county_id\"] = pd.Series(range(1, 89))\n",
    "\n",
    "    df_pop = pd.read_csv(data_path / f\"oh_county_pop_{str(year)}.csv\")\n",
    "    df = pd.merge(counties, df_pop, on=\"county\")\n",
    "\n",
    "    return df, counties\n",
    "\n",
    "\n",
    "def create_adjacent_list(data_path: Path) -> list:\n",
    "    with open(data_path / \"oh_adjacent_loc.dat\", \"r\") as f:\n",
    "        read_adjacent = f.readlines()\n",
    "\n",
    "    adjacent_sublist = list(map(lambda x: x.strip(\"\\n\").split(\",\"), read_adjacent))\n",
    "    adjacent_list = [[int(x) for x in sublst] for sublst in adjacent_sublist]\n",
    "\n",
    "    return adjacent_list\n",
    "\n",
    "data_path = Path(\"data\")\n",
    "year = 2021\n",
    "\n",
    "adjacent_list = create_adjacent_list(data_path)\n",
    "df_init, counties = data_ingest(data_path, year)"
   ]
  },
  {
   "cell_type": "code",
   "execution_count": 3,
   "metadata": {},
   "outputs": [
    {
     "name": "stdout",
     "output_type": "stream",
     "text": [
      "[8, 36, 66, 73, 1]\n",
      "[6, 32, 33, 69, 81, 2]\n",
      "[38, 39, 42, 47, 52, 70, 85, 3]\n",
      "[28, 43, 78, 4]\n",
      "[37, 53, 58, 64, 82, 84, 5]\n",
      "[2, 19, 33, 46, 54, 75, 81, 6]\n",
      "[30, 34, 41, 56, 61, 7]\n",
      "[1, 13, 14, 36, 8]\n",
      "[31, 57, 68, 83, 9]\n",
      "[15, 34, 41, 76, 79, 10]\n",
      "[12, 46, 49, 55, 75, 80, 11]\n",
      "[11, 29, 49, 55, 57, 12]\n",
      "[8, 14, 31, 83, 13]\n",
      "[8, 13, 24, 29, 36, 83, 14]\n",
      "[10, 41, 50, 76, 15]\n",
      "[30, 38, 42, 45, 60, 79, 16]\n",
      "[39, 51, 59, 70, 74, 88, 17]\n",
      "[28, 43, 47, 52, 77, 18]\n",
      "[6, 54, 55, 57, 68, 75, 19]\n",
      "[35, 63, 69, 86, 20]\n",
      "[25, 42, 45, 51, 59, 80, 21]\n",
      "[39, 47, 72, 22]\n",
      "[25, 37, 45, 64, 65, 23]\n",
      "[14, 29, 36, 49, 65, 71, 24]\n",
      "[21, 23, 45, 49, 65, 80, 25]\n",
      "[35, 48, 86, 26]\n",
      "[36, 40, 44, 53, 82, 27]\n",
      "[4, 18, 43, 67, 78, 28]\n",
      "[12, 14, 24, 49, 57, 83, 29]\n",
      "[7, 16, 34, 60, 61, 79, 30]\n",
      "[9, 13, 83, 31]\n",
      "[2, 33, 69, 74, 87, 88, 32]\n",
      "[2, 6, 32, 46, 51, 80, 88, 33]\n",
      "[7, 10, 30, 41, 79, 34]\n",
      "[20, 26, 48, 69, 86, 87, 35]\n",
      "[1, 8, 14, 24, 27, 66, 71, 36]\n",
      "[5, 23, 64, 65, 71, 82, 37]\n",
      "[3, 16, 42, 76, 79, 85, 38]\n",
      "[3, 17, 22, 47, 70, 72, 74, 39]\n",
      "[27, 44, 66, 71, 73, 82, 40]\n",
      "[7, 10, 15, 34, 41]\n",
      "[3, 16, 21, 38, 45, 59, 70, 42]\n",
      "[4, 18, 28, 43]\n",
      "[27, 40, 73, 44]\n",
      "[16, 21, 23, 25, 42, 60, 64, 45]\n",
      "[6, 11, 33, 75, 80, 46]\n",
      "[3, 18, 22, 39, 52, 47]\n",
      "[26, 35, 62, 87, 48]\n",
      "[11, 12, 24, 25, 29, 65, 80, 49]\n",
      "[15, 67, 76, 78, 50]\n",
      "[17, 21, 33, 59, 80, 88, 51]\n",
      "[3, 18, 47, 77, 85, 52]\n",
      "[5, 27, 82, 53]\n",
      "[6, 19, 81, 54]\n",
      "[11, 12, 19, 57, 75, 55]\n",
      "[7, 61, 84, 56]\n",
      "[9, 12, 19, 29, 55, 68, 83, 57]\n",
      "[5, 60, 61, 64, 84, 58]\n",
      "[17, 21, 42, 51, 70, 59]\n",
      "[16, 30, 45, 58, 61, 64, 60]\n",
      "[7, 30, 56, 58, 60, 84, 61]\n",
      "[48, 72, 87, 62]\n",
      "[20, 69, 81, 63]\n",
      "[5, 23, 37, 45, 58, 60, 64]\n",
      "[23, 24, 25, 37, 49, 71, 65]\n",
      "[1, 36, 40, 71, 73, 66]\n",
      "[28, 50, 76, 77, 78, 67]\n",
      "[9, 19, 57, 68]\n",
      "[2, 20, 32, 35, 63, 81, 69]\n",
      "[3, 17, 39, 42, 59, 70]\n",
      "[24, 36, 37, 40, 65, 66, 82, 71]\n",
      "[22, 39, 62, 74, 87, 72]\n",
      "[1, 40, 44, 66, 73]\n",
      "[17, 32, 39, 72, 87, 88, 74]\n",
      "[6, 11, 19, 46, 55, 75]\n",
      "[10, 15, 38, 50, 67, 77, 79, 85, 76]\n",
      "[18, 52, 67, 76, 85, 77]\n",
      "[4, 28, 50, 67, 78]\n",
      "[10, 16, 30, 34, 38, 76, 79]\n",
      "[11, 21, 25, 33, 46, 49, 51, 80]\n",
      "[2, 6, 54, 63, 69, 81]\n",
      "[5, 27, 37, 40, 53, 71, 82]\n",
      "[9, 13, 14, 29, 31, 57, 83]\n",
      "[5, 56, 58, 61, 84]\n",
      "[3, 38, 52, 76, 77, 85]\n",
      "[20, 26, 35, 86]\n",
      "[32, 35, 48, 62, 72, 74, 87]\n",
      "[17, 32, 33, 51, 74, 88]\n"
     ]
    }
   ],
   "source": [
    "adjacent_matrix = defaultdict(list)\n",
    "for i in range(1, 89):\n",
    "    adjacent_list[i - 1].append(i)\n",
    "    adjacent_matrix[i] = adjacent_list[i - 1]\n",
    "# adj_matrix"
   ]
  },
  {
   "cell_type": "code",
   "execution_count": 4,
   "metadata": {},
   "outputs": [
    {
     "ename": "NameError",
     "evalue": "name 'df' is not defined",
     "output_type": "error",
     "traceback": [
      "\u001b[0;31m---------------------------------------------------------------------------\u001b[0m",
      "\u001b[0;31mNameError\u001b[0m                                 Traceback (most recent call last)",
      "Cell \u001b[0;32mIn[4], line 5\u001b[0m\n\u001b[1;32m      1\u001b[0m \u001b[39mdef\u001b[39;00m \u001b[39mcounty_list_to_names\u001b[39m(id_list, counties):\n\u001b[1;32m      2\u001b[0m     \u001b[39mreturn\u001b[39;00m counties[counties[\u001b[39m\"\u001b[39m\u001b[39mcounty_id\u001b[39m\u001b[39m\"\u001b[39m]\u001b[39m.\u001b[39misin(id_list)][\u001b[39m\"\u001b[39m\u001b[39mcounty\u001b[39m\u001b[39m\"\u001b[39m]\u001b[39m.\u001b[39mtolist()\n\u001b[0;32m----> 5\u001b[0m df[\u001b[39m\"\u001b[39m\u001b[39madj_names\u001b[39m\u001b[39m\"\u001b[39m] \u001b[39m=\u001b[39m df[\u001b[39m\"\u001b[39m\u001b[39madj_id\u001b[39m\u001b[39m\"\u001b[39m]\u001b[39m.\u001b[39mapply(\u001b[39mlambda\u001b[39;00m x: county_list_to_names(x, counties))\n",
      "\u001b[0;31mNameError\u001b[0m: name 'df' is not defined"
     ]
    }
   ],
   "source": [
    "def county_list_to_names(id_list, counties):\n",
    "    return counties[counties[\"county_id\"].isin(id_list)][\"county\"].tolist()\n",
    "\n",
    "\n",
    "df[\"adj_names\"] = df[\"adj_id\"].apply(lambda x: county_list_to_names(x, counties))"
   ]
  },
  {
   "cell_type": "code",
   "execution_count": null,
   "metadata": {},
   "outputs": [],
   "source": [
    "df"
   ]
  },
  {
   "cell_type": "code",
   "execution_count": null,
   "metadata": {},
   "outputs": [],
   "source": [
    "adj_matrix[88]"
   ]
  },
  {
   "cell_type": "code",
   "execution_count": null,
   "metadata": {},
   "outputs": [],
   "source": [
    "model = pyo.ConcreteModel()\n",
    "\n",
    "# declare decision variables\n",
    "model.x = pyo.Var(domain=pyo.NonNegativeReals)\n",
    "\n",
    "# declare objective\n",
    "model.profit = pyo.Objective(\n",
    "    expr = 40*model.x,\n",
    "    sense = pyo.maximize)\n",
    "\n",
    "# declare constraints\n",
    "model.demand = pyo.Constraint(expr = model.x <= 40)\n",
    "model.laborA = pyo.Constraint(expr = model.x <= 80)\n",
    "model.laborB = pyo.Constraint(expr = 2*model.x <= 100)\n",
    "\n",
    "# solve\n",
    "pyo.SolverFactory('cbc').solve(model).write()\n",
    "\n",
    "model.profit.display()\n",
    "model.x.display()\n"
   ]
  },
  {
   "cell_type": "code",
   "execution_count": null,
   "metadata": {},
   "outputs": [],
   "source": [
    "def param_adj(m, i, j):\n",
    "    return int(j in adj_matrix[i])\n",
    "\n",
    "\n",
    "def param_pop(m, i):\n",
    "    return df[\"population\"][i - 1]"
   ]
  },
  {
   "cell_type": "code",
   "execution_count": null,
   "metadata": {},
   "outputs": [],
   "source": [
    "int(20 in adj_matrix[25])\n",
    "df[\"population\"][24 - 1]"
   ]
  },
  {
   "cell_type": "code",
   "execution_count": null,
   "metadata": {},
   "outputs": [],
   "source": [
    "model = pyo.AbstractModel()\n",
    "\n",
    "# value of n (number of counties)\n",
    "model.n = pyo.Param(initialize=88)\n",
    "\n",
    "# range of i and j (iterating over counties)\n",
    "model.I = pyo.RangeSet(1, model.n)\n",
    "model.J = pyo.RangeSet(1, model.n)\n",
    "\n",
    "# TOSET limit on number of pirincipal places of buisnesses opened (init to 5)\n",
    "model.k = pyo.Var(within=pyo.NonNegativeIntegers, initialize=5)\n",
    "\n",
    "model.p = pyo.Param(model.I, initialize=param_pop)  # population of county i\n",
    "model.a = pyo.Var(\n",
    "    model.I, model.J, domain=pyo.Binary, initialize=param_adj\n",
    ")  # 1 if county i and j are adjacent\n",
    "model.x = pyo.Var(\n",
    "    model.J, domain=pyo.Binary\n",
    ")  # 1 if principal place of business is opened in county j\n",
    "model.y = pyo.Var(model.I, domain=pyo.Binary)  # 1 if county i is covered"
   ]
  },
  {
   "cell_type": "code",
   "execution_count": null,
   "metadata": {},
   "outputs": [],
   "source": [
    "def obj_sum(m):\n",
    "    return pyo.summation(m.p, m.y)\n",
    "\n",
    "\n",
    "def con_a(m, i):\n",
    "    return sum((m.a[i, j] * m.x[j]) for j in m.J) >= m.y[i]\n",
    "\n",
    "\n",
    "def con_x(m):\n",
    "    return sum(m.x[j] for j in m.J) <= m.k"
   ]
  },
  {
   "cell_type": "code",
   "execution_count": null,
   "metadata": {},
   "outputs": [],
   "source": [
    "model.obj = pyo.Objective(rule=obj_sum, sense=pyo.maximize)\n",
    "\n",
    "model.a_constraint = pyo.Constraint(model.I, rule=con_a)\n",
    "model.x_constraint = pyo.Constraint(rule=con_x)"
   ]
  },
  {
   "cell_type": "code",
   "execution_count": null,
   "metadata": {},
   "outputs": [],
   "source": [
    "# data = {None: {\n",
    "#     'I': {None: [1,2,3]},\n",
    "#     'p': {None: 100},\n",
    "#     'q': {1: 10, 2:20, 3:30},\n",
    "#     'r': {(1,1): 110, (1,2): 120, (2,3): 230},\n",
    "# }}\n",
    "instance = model.create_instance()"
   ]
  },
  {
   "cell_type": "code",
   "execution_count": null,
   "metadata": {},
   "outputs": [],
   "source": [
    "# instance.pprint()()"
   ]
  },
  {
   "cell_type": "code",
   "execution_count": null,
   "metadata": {},
   "outputs": [],
   "source": [
    "opt = pyo.SolverFactory(\"cbc\")\n",
    "opt.solve(instance)"
   ]
  }
 ],
 "metadata": {
  "kernelspec": {
   "display_name": "ise-533",
   "language": "python",
   "name": "python3"
  },
  "language_info": {
   "codemirror_mode": {
    "name": "ipython",
    "version": 3
   },
   "file_extension": ".py",
   "mimetype": "text/x-python",
   "name": "python",
   "nbconvert_exporter": "python",
   "pygments_lexer": "ipython3",
   "version": "3.11.0 (main, Jan 12 2023, 12:30:55) [GCC 11.3.0]"
  },
  "orig_nbformat": 4,
  "vscode": {
   "interpreter": {
    "hash": "278b6d78291e10098305ddb5a9cf9f04bd654eaf46b65a75154295c2ec1fd6df"
   }
  }
 },
 "nbformat": 4,
 "nbformat_minor": 2
}
